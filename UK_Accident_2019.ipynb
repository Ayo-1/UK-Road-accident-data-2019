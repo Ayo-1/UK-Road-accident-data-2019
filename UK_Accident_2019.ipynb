{
 "cells": [
  {
   "cell_type": "code",
   "execution_count": 2,
   "metadata": {},
   "outputs": [],
   "source": [
    "import pandas as pd\n",
    "import numpy as np\n",
    "import matplotlib.pyplot as plt"
   ]
  },
  {
   "cell_type": "code",
   "execution_count": 4,
   "metadata": {},
   "outputs": [],
   "source": [
    "df = pd.read_csv(\"Road Safety Data - Accidents 2019.csv\", low_memory=False)\n",
    "dfCasuality = pd.read_csv(\"Road Safety Data - Casualties 2019(1).csv\")"
   ]
  },
  {
   "cell_type": "code",
   "execution_count": null,
   "metadata": {},
   "outputs": [],
   "source": []
  },
  {
   "cell_type": "code",
   "execution_count": 5,
   "metadata": {},
   "outputs": [
    {
     "data": {
      "text/html": [
       "<div>\n",
       "<style scoped>\n",
       "    .dataframe tbody tr th:only-of-type {\n",
       "        vertical-align: middle;\n",
       "    }\n",
       "\n",
       "    .dataframe tbody tr th {\n",
       "        vertical-align: top;\n",
       "    }\n",
       "\n",
       "    .dataframe thead th {\n",
       "        text-align: right;\n",
       "    }\n",
       "</style>\n",
       "<table border=\"1\" class=\"dataframe\">\n",
       "  <thead>\n",
       "    <tr style=\"text-align: right;\">\n",
       "      <th></th>\n",
       "      <th>Accident_Index</th>\n",
       "      <th>Location_Easting_OSGR</th>\n",
       "      <th>Location_Northing_OSGR</th>\n",
       "      <th>Longitude</th>\n",
       "      <th>Latitude</th>\n",
       "      <th>Police_Force</th>\n",
       "      <th>Accident_Severity</th>\n",
       "      <th>Number_of_Vehicles</th>\n",
       "      <th>Number_of_Casualties</th>\n",
       "      <th>Date</th>\n",
       "      <th>...</th>\n",
       "      <th>Pedestrian_Crossing-Human_Control</th>\n",
       "      <th>Pedestrian_Crossing-Physical_Facilities</th>\n",
       "      <th>Light_Conditions</th>\n",
       "      <th>Weather_Conditions</th>\n",
       "      <th>Road_Surface_Conditions</th>\n",
       "      <th>Special_Conditions_at_Site</th>\n",
       "      <th>Carriageway_Hazards</th>\n",
       "      <th>Urban_or_Rural_Area</th>\n",
       "      <th>Did_Police_Officer_Attend_Scene_of_Accident</th>\n",
       "      <th>LSOA_of_Accident_Location</th>\n",
       "    </tr>\n",
       "  </thead>\n",
       "  <tbody>\n",
       "    <tr>\n",
       "      <th>0</th>\n",
       "      <td>2019010128300</td>\n",
       "      <td>528218.0</td>\n",
       "      <td>180407.0</td>\n",
       "      <td>-0.153842</td>\n",
       "      <td>51.508057</td>\n",
       "      <td>1</td>\n",
       "      <td>3</td>\n",
       "      <td>2</td>\n",
       "      <td>3</td>\n",
       "      <td>18/02/2019</td>\n",
       "      <td>...</td>\n",
       "      <td>0</td>\n",
       "      <td>5</td>\n",
       "      <td>1</td>\n",
       "      <td>1</td>\n",
       "      <td>1</td>\n",
       "      <td>0</td>\n",
       "      <td>0</td>\n",
       "      <td>1</td>\n",
       "      <td>3</td>\n",
       "      <td>E01004762</td>\n",
       "    </tr>\n",
       "    <tr>\n",
       "      <th>1</th>\n",
       "      <td>2019010152270</td>\n",
       "      <td>530219.0</td>\n",
       "      <td>172463.0</td>\n",
       "      <td>-0.127949</td>\n",
       "      <td>51.436208</td>\n",
       "      <td>1</td>\n",
       "      <td>3</td>\n",
       "      <td>2</td>\n",
       "      <td>1</td>\n",
       "      <td>15/01/2019</td>\n",
       "      <td>...</td>\n",
       "      <td>-1</td>\n",
       "      <td>-1</td>\n",
       "      <td>4</td>\n",
       "      <td>1</td>\n",
       "      <td>1</td>\n",
       "      <td>0</td>\n",
       "      <td>0</td>\n",
       "      <td>1</td>\n",
       "      <td>3</td>\n",
       "      <td>E01003117</td>\n",
       "    </tr>\n",
       "    <tr>\n",
       "      <th>2</th>\n",
       "      <td>2019010155191</td>\n",
       "      <td>530222.0</td>\n",
       "      <td>182543.0</td>\n",
       "      <td>-0.124193</td>\n",
       "      <td>51.526795</td>\n",
       "      <td>1</td>\n",
       "      <td>3</td>\n",
       "      <td>2</td>\n",
       "      <td>1</td>\n",
       "      <td>01/01/2019</td>\n",
       "      <td>...</td>\n",
       "      <td>0</td>\n",
       "      <td>0</td>\n",
       "      <td>4</td>\n",
       "      <td>1</td>\n",
       "      <td>1</td>\n",
       "      <td>0</td>\n",
       "      <td>0</td>\n",
       "      <td>1</td>\n",
       "      <td>1</td>\n",
       "      <td>E01000943</td>\n",
       "    </tr>\n",
       "    <tr>\n",
       "      <th>3</th>\n",
       "      <td>2019010155192</td>\n",
       "      <td>525531.0</td>\n",
       "      <td>184605.0</td>\n",
       "      <td>-0.191044</td>\n",
       "      <td>51.546387</td>\n",
       "      <td>1</td>\n",
       "      <td>2</td>\n",
       "      <td>1</td>\n",
       "      <td>1</td>\n",
       "      <td>01/01/2019</td>\n",
       "      <td>...</td>\n",
       "      <td>0</td>\n",
       "      <td>0</td>\n",
       "      <td>4</td>\n",
       "      <td>1</td>\n",
       "      <td>1</td>\n",
       "      <td>0</td>\n",
       "      <td>0</td>\n",
       "      <td>1</td>\n",
       "      <td>1</td>\n",
       "      <td>E01000973</td>\n",
       "    </tr>\n",
       "    <tr>\n",
       "      <th>4</th>\n",
       "      <td>2019010155194</td>\n",
       "      <td>524920.0</td>\n",
       "      <td>184004.0</td>\n",
       "      <td>-0.200064</td>\n",
       "      <td>51.541121</td>\n",
       "      <td>1</td>\n",
       "      <td>3</td>\n",
       "      <td>2</td>\n",
       "      <td>2</td>\n",
       "      <td>01/01/2019</td>\n",
       "      <td>...</td>\n",
       "      <td>0</td>\n",
       "      <td>0</td>\n",
       "      <td>4</td>\n",
       "      <td>1</td>\n",
       "      <td>1</td>\n",
       "      <td>0</td>\n",
       "      <td>0</td>\n",
       "      <td>1</td>\n",
       "      <td>1</td>\n",
       "      <td>E01000546</td>\n",
       "    </tr>\n",
       "  </tbody>\n",
       "</table>\n",
       "<p>5 rows × 32 columns</p>\n",
       "</div>"
      ],
      "text/plain": [
       "  Accident_Index  Location_Easting_OSGR  Location_Northing_OSGR  Longitude  \\\n",
       "0  2019010128300               528218.0                180407.0  -0.153842   \n",
       "1  2019010152270               530219.0                172463.0  -0.127949   \n",
       "2  2019010155191               530222.0                182543.0  -0.124193   \n",
       "3  2019010155192               525531.0                184605.0  -0.191044   \n",
       "4  2019010155194               524920.0                184004.0  -0.200064   \n",
       "\n",
       "    Latitude  Police_Force  Accident_Severity  Number_of_Vehicles  \\\n",
       "0  51.508057             1                  3                   2   \n",
       "1  51.436208             1                  3                   2   \n",
       "2  51.526795             1                  3                   2   \n",
       "3  51.546387             1                  2                   1   \n",
       "4  51.541121             1                  3                   2   \n",
       "\n",
       "   Number_of_Casualties        Date  ...  Pedestrian_Crossing-Human_Control  \\\n",
       "0                     3  18/02/2019  ...                                  0   \n",
       "1                     1  15/01/2019  ...                                 -1   \n",
       "2                     1  01/01/2019  ...                                  0   \n",
       "3                     1  01/01/2019  ...                                  0   \n",
       "4                     2  01/01/2019  ...                                  0   \n",
       "\n",
       "  Pedestrian_Crossing-Physical_Facilities  Light_Conditions  \\\n",
       "0                                       5                 1   \n",
       "1                                      -1                 4   \n",
       "2                                       0                 4   \n",
       "3                                       0                 4   \n",
       "4                                       0                 4   \n",
       "\n",
       "  Weather_Conditions  Road_Surface_Conditions  Special_Conditions_at_Site  \\\n",
       "0                  1                        1                           0   \n",
       "1                  1                        1                           0   \n",
       "2                  1                        1                           0   \n",
       "3                  1                        1                           0   \n",
       "4                  1                        1                           0   \n",
       "\n",
       "   Carriageway_Hazards  Urban_or_Rural_Area  \\\n",
       "0                    0                    1   \n",
       "1                    0                    1   \n",
       "2                    0                    1   \n",
       "3                    0                    1   \n",
       "4                    0                    1   \n",
       "\n",
       "   Did_Police_Officer_Attend_Scene_of_Accident  LSOA_of_Accident_Location  \n",
       "0                                            3                  E01004762  \n",
       "1                                            3                  E01003117  \n",
       "2                                            1                  E01000943  \n",
       "3                                            1                  E01000973  \n",
       "4                                            1                  E01000546  \n",
       "\n",
       "[5 rows x 32 columns]"
      ]
     },
     "execution_count": 5,
     "metadata": {},
     "output_type": "execute_result"
    }
   ],
   "source": [
    "df.head()"
   ]
  },
  {
   "cell_type": "code",
   "execution_count": 6,
   "metadata": {},
   "outputs": [
    {
     "data": {
      "text/plain": [
       "Index(['Accident_Index', 'Location_Easting_OSGR', 'Location_Northing_OSGR',\n",
       "       'Longitude', 'Latitude', 'Police_Force', 'Accident_Severity',\n",
       "       'Number_of_Vehicles', 'Number_of_Casualties', 'Date', 'Day_of_Week',\n",
       "       'Time', 'Local_Authority_(District)', 'Local_Authority_(Highway)',\n",
       "       '1st_Road_Class', '1st_Road_Number', 'Road_Type', 'Speed_limit',\n",
       "       'Junction_Detail', 'Junction_Control', '2nd_Road_Class',\n",
       "       '2nd_Road_Number', 'Pedestrian_Crossing-Human_Control',\n",
       "       'Pedestrian_Crossing-Physical_Facilities', 'Light_Conditions',\n",
       "       'Weather_Conditions', 'Road_Surface_Conditions',\n",
       "       'Special_Conditions_at_Site', 'Carriageway_Hazards',\n",
       "       'Urban_or_Rural_Area', 'Did_Police_Officer_Attend_Scene_of_Accident',\n",
       "       'LSOA_of_Accident_Location'],\n",
       "      dtype='object')"
      ]
     },
     "execution_count": 6,
     "metadata": {},
     "output_type": "execute_result"
    }
   ],
   "source": [
    "df.columns"
   ]
  },
  {
   "cell_type": "code",
   "execution_count": 7,
   "metadata": {},
   "outputs": [
    {
     "data": {
      "text/plain": [
       "Index(['Accident_Index', 'Vehicle_Reference', 'Casualty_Reference',\n",
       "       'Casualty_Class', 'Sex_of_Casualty', 'Age_of_Casualty',\n",
       "       'Age_Band_of_Casualty', 'Casualty_Severity', 'Pedestrian_Location',\n",
       "       'Pedestrian_Movement', 'Car_Passenger', 'Bus_or_Coach_Passenger',\n",
       "       'Pedestrian_Road_Maintenance_Worker', 'Casualty_Type',\n",
       "       'Casualty_Home_Area_Type', 'Casualty_IMD_Decile'],\n",
       "      dtype='object')"
      ]
     },
     "execution_count": 7,
     "metadata": {},
     "output_type": "execute_result"
    }
   ],
   "source": [
    "dfCasuality.columns"
   ]
  },
  {
   "cell_type": "markdown",
   "metadata": {},
   "source": [
    "### (a)\tAre there significant hours of the day, and days of the week, on which accidents occur?"
   ]
  },
  {
   "cell_type": "markdown",
   "metadata": {},
   "source": [
    "### Days of Week"
   ]
  },
  {
   "cell_type": "code",
   "execution_count": 8,
   "metadata": {},
   "outputs": [
    {
     "data": {
      "image/png": "[encoded data removed]",
      "text/plain": [
       "<Figure size 432x360 with 1 Axes>"
      ]
     },
     "metadata": {
      "needs_background": "light"
     },
     "output_type": "display_data"
    }
   ],
   "source": [
    "WeekdayAccident = df['Day_of_Week'].value_counts().sort_index()\n",
    "WeekdayAccident.plot(kind='bar', title='Accident at each day of Week', ylabel='Number of Accident',\n",
    "         xlabel='Days of Week', figsize=(6, 5))\n",
    "plt.show()"
   ]
  },
  {
   "cell_type": "markdown",
   "metadata": {},
   "source": [
    "Above figure depicts the number of accidents at each of a week. It shows that Sixth day (Friday) of the week has highest number of accident. Starting from 1 (Sunday) till 7 (saturday), the highest number of accident occur at Friday. "
   ]
  },
  {
   "cell_type": "markdown",
   "metadata": {},
   "source": [
    "#### Clean the Dataset"
   ]
  },
  {
   "cell_type": "code",
   "execution_count": 9,
   "metadata": {},
   "outputs": [],
   "source": [
    "dfClean = df.dropna()"
   ]
  },
  {
   "cell_type": "code",
   "execution_count": 10,
   "metadata": {},
   "outputs": [
    {
     "data": {
      "text/html": [
       "<div>\n",
       "<style scoped>\n",
       "    .dataframe tbody tr th:only-of-type {\n",
       "        vertical-align: middle;\n",
       "    }\n",
       "\n",
       "    .dataframe tbody tr th {\n",
       "        vertical-align: top;\n",
       "    }\n",
       "\n",
       "    .dataframe thead th {\n",
       "        text-align: right;\n",
       "    }\n",
       "</style>\n",
       "<table border=\"1\" class=\"dataframe\">\n",
       "  <thead>\n",
       "    <tr style=\"text-align: right;\">\n",
       "      <th></th>\n",
       "      <th>Accident_Index</th>\n",
       "      <th>Location_Easting_OSGR</th>\n",
       "      <th>Location_Northing_OSGR</th>\n",
       "      <th>Longitude</th>\n",
       "      <th>Latitude</th>\n",
       "      <th>Police_Force</th>\n",
       "      <th>Accident_Severity</th>\n",
       "      <th>Number_of_Vehicles</th>\n",
       "      <th>Number_of_Casualties</th>\n",
       "      <th>Date</th>\n",
       "      <th>...</th>\n",
       "      <th>Pedestrian_Crossing-Human_Control</th>\n",
       "      <th>Pedestrian_Crossing-Physical_Facilities</th>\n",
       "      <th>Light_Conditions</th>\n",
       "      <th>Weather_Conditions</th>\n",
       "      <th>Road_Surface_Conditions</th>\n",
       "      <th>Special_Conditions_at_Site</th>\n",
       "      <th>Carriageway_Hazards</th>\n",
       "      <th>Urban_or_Rural_Area</th>\n",
       "      <th>Did_Police_Officer_Attend_Scene_of_Accident</th>\n",
       "      <th>LSOA_of_Accident_Location</th>\n",
       "    </tr>\n",
       "  </thead>\n",
       "  <tbody>\n",
       "    <tr>\n",
       "      <th>0</th>\n",
       "      <td>2019010128300</td>\n",
       "      <td>528218.0</td>\n",
       "      <td>180407.0</td>\n",
       "      <td>-0.153842</td>\n",
       "      <td>51.508057</td>\n",
       "      <td>1</td>\n",
       "      <td>3</td>\n",
       "      <td>2</td>\n",
       "      <td>3</td>\n",
       "      <td>18/02/2019</td>\n",
       "      <td>...</td>\n",
       "      <td>0</td>\n",
       "      <td>5</td>\n",
       "      <td>1</td>\n",
       "      <td>1</td>\n",
       "      <td>1</td>\n",
       "      <td>0</td>\n",
       "      <td>0</td>\n",
       "      <td>1</td>\n",
       "      <td>3</td>\n",
       "      <td>E01004762</td>\n",
       "    </tr>\n",
       "    <tr>\n",
       "      <th>1</th>\n",
       "      <td>2019010152270</td>\n",
       "      <td>530219.0</td>\n",
       "      <td>172463.0</td>\n",
       "      <td>-0.127949</td>\n",
       "      <td>51.436208</td>\n",
       "      <td>1</td>\n",
       "      <td>3</td>\n",
       "      <td>2</td>\n",
       "      <td>1</td>\n",
       "      <td>15/01/2019</td>\n",
       "      <td>...</td>\n",
       "      <td>-1</td>\n",
       "      <td>-1</td>\n",
       "      <td>4</td>\n",
       "      <td>1</td>\n",
       "      <td>1</td>\n",
       "      <td>0</td>\n",
       "      <td>0</td>\n",
       "      <td>1</td>\n",
       "      <td>3</td>\n",
       "      <td>E01003117</td>\n",
       "    </tr>\n",
       "    <tr>\n",
       "      <th>2</th>\n",
       "      <td>2019010155191</td>\n",
       "      <td>530222.0</td>\n",
       "      <td>182543.0</td>\n",
       "      <td>-0.124193</td>\n",
       "      <td>51.526795</td>\n",
       "      <td>1</td>\n",
       "      <td>3</td>\n",
       "      <td>2</td>\n",
       "      <td>1</td>\n",
       "      <td>01/01/2019</td>\n",
       "      <td>...</td>\n",
       "      <td>0</td>\n",
       "      <td>0</td>\n",
       "      <td>4</td>\n",
       "      <td>1</td>\n",
       "      <td>1</td>\n",
       "      <td>0</td>\n",
       "      <td>0</td>\n",
       "      <td>1</td>\n",
       "      <td>1</td>\n",
       "      <td>E01000943</td>\n",
       "    </tr>\n",
       "    <tr>\n",
       "      <th>3</th>\n",
       "      <td>2019010155192</td>\n",
       "      <td>525531.0</td>\n",
       "      <td>184605.0</td>\n",
       "      <td>-0.191044</td>\n",
       "      <td>51.546387</td>\n",
       "      <td>1</td>\n",
       "      <td>2</td>\n",
       "      <td>1</td>\n",
       "      <td>1</td>\n",
       "      <td>01/01/2019</td>\n",
       "      <td>...</td>\n",
       "      <td>0</td>\n",
       "      <td>0</td>\n",
       "      <td>4</td>\n",
       "      <td>1</td>\n",
       "      <td>1</td>\n",
       "      <td>0</td>\n",
       "      <td>0</td>\n",
       "      <td>1</td>\n",
       "      <td>1</td>\n",
       "      <td>E01000973</td>\n",
       "    </tr>\n",
       "    <tr>\n",
       "      <th>4</th>\n",
       "      <td>2019010155194</td>\n",
       "      <td>524920.0</td>\n",
       "      <td>184004.0</td>\n",
       "      <td>-0.200064</td>\n",
       "      <td>51.541121</td>\n",
       "      <td>1</td>\n",
       "      <td>3</td>\n",
       "      <td>2</td>\n",
       "      <td>2</td>\n",
       "      <td>01/01/2019</td>\n",
       "      <td>...</td>\n",
       "      <td>0</td>\n",
       "      <td>0</td>\n",
       "      <td>4</td>\n",
       "      <td>1</td>\n",
       "      <td>1</td>\n",
       "      <td>0</td>\n",
       "      <td>0</td>\n",
       "      <td>1</td>\n",
       "      <td>1</td>\n",
       "      <td>E01000546</td>\n",
       "    </tr>\n",
       "  </tbody>\n",
       "</table>\n",
       "<p>5 rows × 32 columns</p>\n",
       "</div>"
      ],
      "text/plain": [
       "  Accident_Index  Location_Easting_OSGR  Location_Northing_OSGR  Longitude  \\\n",
       "0  2019010128300               528218.0                180407.0  -0.153842   \n",
       "1  2019010152270               530219.0                172463.0  -0.127949   \n",
       "2  2019010155191               530222.0                182543.0  -0.124193   \n",
       "3  2019010155192               525531.0                184605.0  -0.191044   \n",
       "4  2019010155194               524920.0                184004.0  -0.200064   \n",
       "\n",
       "    Latitude  Police_Force  Accident_Severity  Number_of_Vehicles  \\\n",
       "0  51.508057             1                  3                   2   \n",
       "1  51.436208             1                  3                   2   \n",
       "2  51.526795             1                  3                   2   \n",
       "3  51.546387             1                  2                   1   \n",
       "4  51.541121             1                  3                   2   \n",
       "\n",
       "   Number_of_Casualties        Date  ...  Pedestrian_Crossing-Human_Control  \\\n",
       "0                     3  18/02/2019  ...                                  0   \n",
       "1                     1  15/01/2019  ...                                 -1   \n",
       "2                     1  01/01/2019  ...                                  0   \n",
       "3                     1  01/01/2019  ...                                  0   \n",
       "4                     2  01/01/2019  ...                                  0   \n",
       "\n",
       "  Pedestrian_Crossing-Physical_Facilities  Light_Conditions  \\\n",
       "0                                       5                 1   \n",
       "1                                      -1                 4   \n",
       "2                                       0                 4   \n",
       "3                                       0                 4   \n",
       "4                                       0                 4   \n",
       "\n",
       "  Weather_Conditions  Road_Surface_Conditions  Special_Conditions_at_Site  \\\n",
       "0                  1                        1                           0   \n",
       "1                  1                        1                           0   \n",
       "2                  1                        1                           0   \n",
       "3                  1                        1                           0   \n",
       "4                  1                        1                           0   \n",
       "\n",
       "   Carriageway_Hazards  Urban_or_Rural_Area  \\\n",
       "0                    0                    1   \n",
       "1                    0                    1   \n",
       "2                    0                    1   \n",
       "3                    0                    1   \n",
       "4                    0                    1   \n",
       "\n",
       "   Did_Police_Officer_Attend_Scene_of_Accident  LSOA_of_Accident_Location  \n",
       "0                                            3                  E01004762  \n",
       "1                                            3                  E01003117  \n",
       "2                                            1                  E01000943  \n",
       "3                                            1                  E01000973  \n",
       "4                                            1                  E01000546  \n",
       "\n",
       "[5 rows x 32 columns]"
      ]
     },
     "execution_count": 10,
     "metadata": {},
     "output_type": "execute_result"
    }
   ],
   "source": [
    "dfClean.head()"
   ]
  },
  {
   "cell_type": "markdown",
   "metadata": {},
   "source": [
    "### Hours of the day"
   ]
  },
  {
   "cell_type": "code",
   "execution_count": 11,
   "metadata": {},
   "outputs": [],
   "source": [
    "hours = []\n",
    "for i,val in enumerate(dfClean['Time']):\n",
    "    hour = val[0:2]\n",
    "    hours.append(hour)\n",
    "    \n",
    "hours.sort()"
   ]
  },
  {
   "cell_type": "code",
   "execution_count": 12,
   "metadata": {},
   "outputs": [
    {
     "data": {
      "image/png": "[encoded data removed]",
      "text/plain": [
       "<Figure size 432x288 with 1 Axes>"
      ]
     },
     "metadata": {
      "needs_background": "light"
     },
     "output_type": "display_data"
    }
   ],
   "source": [
    "plt.hist(hours,bins=47);\n",
    "plt.title(\"Accident at each hours of day\")\n",
    "plt.ylabel(\"Number of Accident\")\n",
    "plt.xlabel(\"Hours of the day\")\n",
    "plt.show()"
   ]
  },
  {
   "cell_type": "markdown",
   "metadata": {},
   "source": [
    "Above figure illustrates the number of accidents at each hours of the day. It is clear from the figure that after 1700 hours to 1800 hours, more number of accidents have been recorded. Figure also depicts that the number of accidents at late night is very few as compare to the after noon time accidents. "
   ]
  },
  {
   "cell_type": "markdown",
   "metadata": {},
   "source": [
    "### For motorbikes, are there significant hours of the day, and days of the week, on which accidents occur?"
   ]
  },
  {
   "cell_type": "code",
   "execution_count": 13,
   "metadata": {},
   "outputs": [],
   "source": [
    "dfVehicles = pd.read_csv(\"Road Safety Data- Vehicles 2019(1).csv\", low_memory = False)"
   ]
  },
  {
   "cell_type": "code",
   "execution_count": 14,
   "metadata": {},
   "outputs": [
    {
     "data": {
      "text/html": [
       "<div>\n",
       "<style scoped>\n",
       "    .dataframe tbody tr th:only-of-type {\n",
       "        vertical-align: middle;\n",
       "    }\n",
       "\n",
       "    .dataframe tbody tr th {\n",
       "        vertical-align: top;\n",
       "    }\n",
       "\n",
       "    .dataframe thead th {\n",
       "        text-align: right;\n",
       "    }\n",
       "</style>\n",
       "<table border=\"1\" class=\"dataframe\">\n",
       "  <thead>\n",
       "    <tr style=\"text-align: right;\">\n",
       "      <th></th>\n",
       "      <th>Accident_Index</th>\n",
       "      <th>Vehicle_Reference</th>\n",
       "      <th>Vehicle_Type</th>\n",
       "      <th>Towing_and_Articulation</th>\n",
       "      <th>Vehicle_Manoeuvre</th>\n",
       "      <th>Vehicle_Location-Restricted_Lane</th>\n",
       "      <th>Junction_Location</th>\n",
       "      <th>Skidding_and_Overturning</th>\n",
       "      <th>Hit_Object_in_Carriageway</th>\n",
       "      <th>Vehicle_Leaving_Carriageway</th>\n",
       "      <th>...</th>\n",
       "      <th>Journey_Purpose_of_Driver</th>\n",
       "      <th>Sex_of_Driver</th>\n",
       "      <th>Age_of_Driver</th>\n",
       "      <th>Age_Band_of_Driver</th>\n",
       "      <th>Engine_Capacity_(CC)</th>\n",
       "      <th>Propulsion_Code</th>\n",
       "      <th>Age_of_Vehicle</th>\n",
       "      <th>Driver_IMD_Decile</th>\n",
       "      <th>Driver_Home_Area_Type</th>\n",
       "      <th>Vehicle_IMD_Decile</th>\n",
       "    </tr>\n",
       "  </thead>\n",
       "  <tbody>\n",
       "    <tr>\n",
       "      <th>0</th>\n",
       "      <td>2019010128300</td>\n",
       "      <td>1</td>\n",
       "      <td>9</td>\n",
       "      <td>0</td>\n",
       "      <td>-1</td>\n",
       "      <td>-1</td>\n",
       "      <td>-1</td>\n",
       "      <td>-1</td>\n",
       "      <td>-1</td>\n",
       "      <td>-1</td>\n",
       "      <td>...</td>\n",
       "      <td>6</td>\n",
       "      <td>1</td>\n",
       "      <td>58</td>\n",
       "      <td>9</td>\n",
       "      <td>-1</td>\n",
       "      <td>-1</td>\n",
       "      <td>-1</td>\n",
       "      <td>2</td>\n",
       "      <td>1</td>\n",
       "      <td>2</td>\n",
       "    </tr>\n",
       "    <tr>\n",
       "      <th>1</th>\n",
       "      <td>2019010128300</td>\n",
       "      <td>2</td>\n",
       "      <td>9</td>\n",
       "      <td>0</td>\n",
       "      <td>-1</td>\n",
       "      <td>-1</td>\n",
       "      <td>-1</td>\n",
       "      <td>-1</td>\n",
       "      <td>-1</td>\n",
       "      <td>-1</td>\n",
       "      <td>...</td>\n",
       "      <td>6</td>\n",
       "      <td>3</td>\n",
       "      <td>-1</td>\n",
       "      <td>-1</td>\n",
       "      <td>-1</td>\n",
       "      <td>-1</td>\n",
       "      <td>-1</td>\n",
       "      <td>2</td>\n",
       "      <td>1</td>\n",
       "      <td>2</td>\n",
       "    </tr>\n",
       "    <tr>\n",
       "      <th>2</th>\n",
       "      <td>2019010152270</td>\n",
       "      <td>1</td>\n",
       "      <td>9</td>\n",
       "      <td>0</td>\n",
       "      <td>18</td>\n",
       "      <td>-1</td>\n",
       "      <td>0</td>\n",
       "      <td>-1</td>\n",
       "      <td>-1</td>\n",
       "      <td>-1</td>\n",
       "      <td>...</td>\n",
       "      <td>6</td>\n",
       "      <td>2</td>\n",
       "      <td>24</td>\n",
       "      <td>5</td>\n",
       "      <td>-1</td>\n",
       "      <td>-1</td>\n",
       "      <td>-1</td>\n",
       "      <td>3</td>\n",
       "      <td>1</td>\n",
       "      <td>3</td>\n",
       "    </tr>\n",
       "    <tr>\n",
       "      <th>3</th>\n",
       "      <td>2019010152270</td>\n",
       "      <td>2</td>\n",
       "      <td>9</td>\n",
       "      <td>0</td>\n",
       "      <td>18</td>\n",
       "      <td>-1</td>\n",
       "      <td>0</td>\n",
       "      <td>-1</td>\n",
       "      <td>-1</td>\n",
       "      <td>-1</td>\n",
       "      <td>...</td>\n",
       "      <td>6</td>\n",
       "      <td>3</td>\n",
       "      <td>-1</td>\n",
       "      <td>-1</td>\n",
       "      <td>-1</td>\n",
       "      <td>-1</td>\n",
       "      <td>-1</td>\n",
       "      <td>6</td>\n",
       "      <td>1</td>\n",
       "      <td>6</td>\n",
       "    </tr>\n",
       "    <tr>\n",
       "      <th>4</th>\n",
       "      <td>2019010155191</td>\n",
       "      <td>1</td>\n",
       "      <td>9</td>\n",
       "      <td>0</td>\n",
       "      <td>3</td>\n",
       "      <td>0</td>\n",
       "      <td>1</td>\n",
       "      <td>0</td>\n",
       "      <td>0</td>\n",
       "      <td>0</td>\n",
       "      <td>...</td>\n",
       "      <td>6</td>\n",
       "      <td>1</td>\n",
       "      <td>45</td>\n",
       "      <td>7</td>\n",
       "      <td>-1</td>\n",
       "      <td>-1</td>\n",
       "      <td>-1</td>\n",
       "      <td>4</td>\n",
       "      <td>1</td>\n",
       "      <td>4</td>\n",
       "    </tr>\n",
       "  </tbody>\n",
       "</table>\n",
       "<p>5 rows × 23 columns</p>\n",
       "</div>"
      ],
      "text/plain": [
       "  Accident_Index  Vehicle_Reference  Vehicle_Type  Towing_and_Articulation  \\\n",
       "0  2019010128300                  1             9                        0   \n",
       "1  2019010128300                  2             9                        0   \n",
       "2  2019010152270                  1             9                        0   \n",
       "3  2019010152270                  2             9                        0   \n",
       "4  2019010155191                  1             9                        0   \n",
       "\n",
       "   Vehicle_Manoeuvre  Vehicle_Location-Restricted_Lane  Junction_Location  \\\n",
       "0                 -1                                -1                 -1   \n",
       "1                 -1                                -1                 -1   \n",
       "2                 18                                -1                  0   \n",
       "3                 18                                -1                  0   \n",
       "4                  3                                 0                  1   \n",
       "\n",
       "   Skidding_and_Overturning  Hit_Object_in_Carriageway  \\\n",
       "0                        -1                         -1   \n",
       "1                        -1                         -1   \n",
       "2                        -1                         -1   \n",
       "3                        -1                         -1   \n",
       "4                         0                          0   \n",
       "\n",
       "   Vehicle_Leaving_Carriageway  ...  Journey_Purpose_of_Driver  Sex_of_Driver  \\\n",
       "0                           -1  ...                          6              1   \n",
       "1                           -1  ...                          6              3   \n",
       "2                           -1  ...                          6              2   \n",
       "3                           -1  ...                          6              3   \n",
       "4                            0  ...                          6              1   \n",
       "\n",
       "   Age_of_Driver  Age_Band_of_Driver  Engine_Capacity_(CC)  Propulsion_Code  \\\n",
       "0             58                   9                    -1               -1   \n",
       "1             -1                  -1                    -1               -1   \n",
       "2             24                   5                    -1               -1   \n",
       "3             -1                  -1                    -1               -1   \n",
       "4             45                   7                    -1               -1   \n",
       "\n",
       "   Age_of_Vehicle  Driver_IMD_Decile  Driver_Home_Area_Type  \\\n",
       "0              -1                  2                      1   \n",
       "1              -1                  2                      1   \n",
       "2              -1                  3                      1   \n",
       "3              -1                  6                      1   \n",
       "4              -1                  4                      1   \n",
       "\n",
       "   Vehicle_IMD_Decile  \n",
       "0                   2  \n",
       "1                   2  \n",
       "2                   3  \n",
       "3                   6  \n",
       "4                   4  \n",
       "\n",
       "[5 rows x 23 columns]"
      ]
     },
     "execution_count": 14,
     "metadata": {},
     "output_type": "execute_result"
    }
   ],
   "source": [
    "dfVehicles.head()"
   ]
  },
  {
   "cell_type": "markdown",
   "metadata": {},
   "source": [
    "#### Remove negative Values from Vehicles dataframe"
   ]
  },
  {
   "cell_type": "code",
   "execution_count": 15,
   "metadata": {},
   "outputs": [],
   "source": [
    "dfCleanVeh = dfVehicles[dfVehicles.select_dtypes(include=[np.number]).ge(0).all(1)]"
   ]
  },
  {
   "cell_type": "code",
   "execution_count": 16,
   "metadata": {},
   "outputs": [
    {
     "data": {
      "text/html": [
       "<div>\n",
       "<style scoped>\n",
       "    .dataframe tbody tr th:only-of-type {\n",
       "        vertical-align: middle;\n",
       "    }\n",
       "\n",
       "    .dataframe tbody tr th {\n",
       "        vertical-align: top;\n",
       "    }\n",
       "\n",
       "    .dataframe thead th {\n",
       "        text-align: right;\n",
       "    }\n",
       "</style>\n",
       "<table border=\"1\" class=\"dataframe\">\n",
       "  <thead>\n",
       "    <tr style=\"text-align: right;\">\n",
       "      <th></th>\n",
       "      <th>Accident_Index</th>\n",
       "      <th>Vehicle_Reference</th>\n",
       "      <th>Vehicle_Type</th>\n",
       "      <th>Towing_and_Articulation</th>\n",
       "      <th>Vehicle_Manoeuvre</th>\n",
       "      <th>Vehicle_Location-Restricted_Lane</th>\n",
       "      <th>Junction_Location</th>\n",
       "      <th>Skidding_and_Overturning</th>\n",
       "      <th>Hit_Object_in_Carriageway</th>\n",
       "      <th>Vehicle_Leaving_Carriageway</th>\n",
       "      <th>...</th>\n",
       "      <th>Journey_Purpose_of_Driver</th>\n",
       "      <th>Sex_of_Driver</th>\n",
       "      <th>Age_of_Driver</th>\n",
       "      <th>Age_Band_of_Driver</th>\n",
       "      <th>Engine_Capacity_(CC)</th>\n",
       "      <th>Propulsion_Code</th>\n",
       "      <th>Age_of_Vehicle</th>\n",
       "      <th>Driver_IMD_Decile</th>\n",
       "      <th>Driver_Home_Area_Type</th>\n",
       "      <th>Vehicle_IMD_Decile</th>\n",
       "    </tr>\n",
       "  </thead>\n",
       "  <tbody>\n",
       "    <tr>\n",
       "      <th>105</th>\n",
       "      <td>2019010155425</td>\n",
       "      <td>1</td>\n",
       "      <td>9</td>\n",
       "      <td>0</td>\n",
       "      <td>18</td>\n",
       "      <td>9</td>\n",
       "      <td>0</td>\n",
       "      <td>0</td>\n",
       "      <td>0</td>\n",
       "      <td>7</td>\n",
       "      <td>...</td>\n",
       "      <td>6</td>\n",
       "      <td>1</td>\n",
       "      <td>23</td>\n",
       "      <td>5</td>\n",
       "      <td>2996</td>\n",
       "      <td>1</td>\n",
       "      <td>1</td>\n",
       "      <td>2</td>\n",
       "      <td>1</td>\n",
       "      <td>2</td>\n",
       "    </tr>\n",
       "    <tr>\n",
       "      <th>182</th>\n",
       "      <td>2019010155627</td>\n",
       "      <td>2</td>\n",
       "      <td>9</td>\n",
       "      <td>0</td>\n",
       "      <td>18</td>\n",
       "      <td>0</td>\n",
       "      <td>8</td>\n",
       "      <td>0</td>\n",
       "      <td>0</td>\n",
       "      <td>0</td>\n",
       "      <td>...</td>\n",
       "      <td>6</td>\n",
       "      <td>1</td>\n",
       "      <td>40</td>\n",
       "      <td>7</td>\n",
       "      <td>1388</td>\n",
       "      <td>1</td>\n",
       "      <td>14</td>\n",
       "      <td>5</td>\n",
       "      <td>1</td>\n",
       "      <td>5</td>\n",
       "    </tr>\n",
       "    <tr>\n",
       "      <th>201</th>\n",
       "      <td>2019010155655</td>\n",
       "      <td>1</td>\n",
       "      <td>8</td>\n",
       "      <td>0</td>\n",
       "      <td>9</td>\n",
       "      <td>0</td>\n",
       "      <td>1</td>\n",
       "      <td>0</td>\n",
       "      <td>0</td>\n",
       "      <td>0</td>\n",
       "      <td>...</td>\n",
       "      <td>1</td>\n",
       "      <td>1</td>\n",
       "      <td>48</td>\n",
       "      <td>8</td>\n",
       "      <td>1798</td>\n",
       "      <td>8</td>\n",
       "      <td>7</td>\n",
       "      <td>3</td>\n",
       "      <td>1</td>\n",
       "      <td>3</td>\n",
       "    </tr>\n",
       "    <tr>\n",
       "      <th>415</th>\n",
       "      <td>2019010156081</td>\n",
       "      <td>1</td>\n",
       "      <td>19</td>\n",
       "      <td>0</td>\n",
       "      <td>18</td>\n",
       "      <td>0</td>\n",
       "      <td>1</td>\n",
       "      <td>0</td>\n",
       "      <td>0</td>\n",
       "      <td>0</td>\n",
       "      <td>...</td>\n",
       "      <td>2</td>\n",
       "      <td>1</td>\n",
       "      <td>46</td>\n",
       "      <td>8</td>\n",
       "      <td>2143</td>\n",
       "      <td>2</td>\n",
       "      <td>1</td>\n",
       "      <td>6</td>\n",
       "      <td>1</td>\n",
       "      <td>6</td>\n",
       "    </tr>\n",
       "    <tr>\n",
       "      <th>458</th>\n",
       "      <td>2019010156197</td>\n",
       "      <td>1</td>\n",
       "      <td>3</td>\n",
       "      <td>0</td>\n",
       "      <td>3</td>\n",
       "      <td>0</td>\n",
       "      <td>1</td>\n",
       "      <td>0</td>\n",
       "      <td>0</td>\n",
       "      <td>0</td>\n",
       "      <td>...</td>\n",
       "      <td>6</td>\n",
       "      <td>2</td>\n",
       "      <td>55</td>\n",
       "      <td>8</td>\n",
       "      <td>124</td>\n",
       "      <td>1</td>\n",
       "      <td>11</td>\n",
       "      <td>4</td>\n",
       "      <td>1</td>\n",
       "      <td>4</td>\n",
       "    </tr>\n",
       "  </tbody>\n",
       "</table>\n",
       "<p>5 rows × 23 columns</p>\n",
       "</div>"
      ],
      "text/plain": [
       "    Accident_Index  Vehicle_Reference  Vehicle_Type  Towing_and_Articulation  \\\n",
       "105  2019010155425                  1             9                        0   \n",
       "182  2019010155627                  2             9                        0   \n",
       "201  2019010155655                  1             8                        0   \n",
       "415  2019010156081                  1            19                        0   \n",
       "458  2019010156197                  1             3                        0   \n",
       "\n",
       "     Vehicle_Manoeuvre  Vehicle_Location-Restricted_Lane  Junction_Location  \\\n",
       "105                 18                                 9                  0   \n",
       "182                 18                                 0                  8   \n",
       "201                  9                                 0                  1   \n",
       "415                 18                                 0                  1   \n",
       "458                  3                                 0                  1   \n",
       "\n",
       "     Skidding_and_Overturning  Hit_Object_in_Carriageway  \\\n",
       "105                         0                          0   \n",
       "182                         0                          0   \n",
       "201                         0                          0   \n",
       "415                         0                          0   \n",
       "458                         0                          0   \n",
       "\n",
       "     Vehicle_Leaving_Carriageway  ...  Journey_Purpose_of_Driver  \\\n",
       "105                            7  ...                          6   \n",
       "182                            0  ...                          6   \n",
       "201                            0  ...                          1   \n",
       "415                            0  ...                          2   \n",
       "458                            0  ...                          6   \n",
       "\n",
       "     Sex_of_Driver  Age_of_Driver  Age_Band_of_Driver  Engine_Capacity_(CC)  \\\n",
       "105              1             23                   5                  2996   \n",
       "182              1             40                   7                  1388   \n",
       "201              1             48                   8                  1798   \n",
       "415              1             46                   8                  2143   \n",
       "458              2             55                   8                   124   \n",
       "\n",
       "     Propulsion_Code  Age_of_Vehicle  Driver_IMD_Decile  \\\n",
       "105                1               1                  2   \n",
       "182                1              14                  5   \n",
       "201                8               7                  3   \n",
       "415                2               1                  6   \n",
       "458                1              11                  4   \n",
       "\n",
       "     Driver_Home_Area_Type  Vehicle_IMD_Decile  \n",
       "105                      1                   2  \n",
       "182                      1                   5  \n",
       "201                      1                   3  \n",
       "415                      1                   6  \n",
       "458                      1                   4  \n",
       "\n",
       "[5 rows x 23 columns]"
      ]
     },
     "execution_count": 16,
     "metadata": {},
     "output_type": "execute_result"
    }
   ],
   "source": [
    "dfCleanVeh.head()"
   ]
  },
  {
   "cell_type": "code",
   "execution_count": 17,
   "metadata": {},
   "outputs": [
    {
     "name": "stdout",
     "output_type": "stream",
     "text": [
      "117536\n",
      "216381\n"
     ]
    }
   ],
   "source": [
    "print(len(df))\n",
    "print(len(dfVehicles))"
   ]
  },
  {
   "cell_type": "code",
   "execution_count": 18,
   "metadata": {},
   "outputs": [],
   "source": [
    "Mergdf = dfVehicles.merge(df,left_on='Accident_Index', right_on='Accident_Index')"
   ]
  },
  {
   "cell_type": "markdown",
   "metadata": {},
   "source": [
    "Merging Casualties data with other datasets"
   ]
  },
  {
   "cell_type": "code",
   "execution_count": 19,
   "metadata": {},
   "outputs": [],
   "source": [
    "MergdfWithCasuality = Mergdf.merge(dfCasuality, left_on = 'Accident_Index',right_on = 'Accident_Index')"
   ]
  },
  {
   "cell_type": "code",
   "execution_count": 20,
   "metadata": {},
   "outputs": [
    {
     "data": {
      "text/html": [
       "<div>\n",
       "<style scoped>\n",
       "    .dataframe tbody tr th:only-of-type {\n",
       "        vertical-align: middle;\n",
       "    }\n",
       "\n",
       "    .dataframe tbody tr th {\n",
       "        vertical-align: top;\n",
       "    }\n",
       "\n",
       "    .dataframe thead th {\n",
       "        text-align: right;\n",
       "    }\n",
       "</style>\n",
       "<table border=\"1\" class=\"dataframe\">\n",
       "  <thead>\n",
       "    <tr style=\"text-align: right;\">\n",
       "      <th></th>\n",
       "      <th>Accident_Index</th>\n",
       "      <th>Vehicle_Reference</th>\n",
       "      <th>Vehicle_Type</th>\n",
       "      <th>Towing_and_Articulation</th>\n",
       "      <th>Vehicle_Manoeuvre</th>\n",
       "      <th>Vehicle_Location-Restricted_Lane</th>\n",
       "      <th>Junction_Location</th>\n",
       "      <th>Skidding_and_Overturning</th>\n",
       "      <th>Hit_Object_in_Carriageway</th>\n",
       "      <th>Vehicle_Leaving_Carriageway</th>\n",
       "      <th>...</th>\n",
       "      <th>Pedestrian_Crossing-Human_Control</th>\n",
       "      <th>Pedestrian_Crossing-Physical_Facilities</th>\n",
       "      <th>Light_Conditions</th>\n",
       "      <th>Weather_Conditions</th>\n",
       "      <th>Road_Surface_Conditions</th>\n",
       "      <th>Special_Conditions_at_Site</th>\n",
       "      <th>Carriageway_Hazards</th>\n",
       "      <th>Urban_or_Rural_Area</th>\n",
       "      <th>Did_Police_Officer_Attend_Scene_of_Accident</th>\n",
       "      <th>LSOA_of_Accident_Location</th>\n",
       "    </tr>\n",
       "  </thead>\n",
       "  <tbody>\n",
       "    <tr>\n",
       "      <th>620</th>\n",
       "      <td>2019010156538</td>\n",
       "      <td>1</td>\n",
       "      <td>9</td>\n",
       "      <td>0</td>\n",
       "      <td>18</td>\n",
       "      <td>0</td>\n",
       "      <td>8</td>\n",
       "      <td>0</td>\n",
       "      <td>0</td>\n",
       "      <td>0</td>\n",
       "      <td>...</td>\n",
       "      <td>0</td>\n",
       "      <td>0</td>\n",
       "      <td>4</td>\n",
       "      <td>1</td>\n",
       "      <td>1</td>\n",
       "      <td>0</td>\n",
       "      <td>0</td>\n",
       "      <td>1</td>\n",
       "      <td>1</td>\n",
       "      <td>E01000066</td>\n",
       "    </tr>\n",
       "    <tr>\n",
       "      <th>622</th>\n",
       "      <td>2019010156538</td>\n",
       "      <td>3</td>\n",
       "      <td>9</td>\n",
       "      <td>0</td>\n",
       "      <td>18</td>\n",
       "      <td>0</td>\n",
       "      <td>4</td>\n",
       "      <td>0</td>\n",
       "      <td>0</td>\n",
       "      <td>0</td>\n",
       "      <td>...</td>\n",
       "      <td>0</td>\n",
       "      <td>0</td>\n",
       "      <td>4</td>\n",
       "      <td>1</td>\n",
       "      <td>1</td>\n",
       "      <td>0</td>\n",
       "      <td>0</td>\n",
       "      <td>1</td>\n",
       "      <td>1</td>\n",
       "      <td>E01000066</td>\n",
       "    </tr>\n",
       "    <tr>\n",
       "      <th>760</th>\n",
       "      <td>2019010156785</td>\n",
       "      <td>1</td>\n",
       "      <td>9</td>\n",
       "      <td>0</td>\n",
       "      <td>9</td>\n",
       "      <td>0</td>\n",
       "      <td>1</td>\n",
       "      <td>0</td>\n",
       "      <td>0</td>\n",
       "      <td>0</td>\n",
       "      <td>...</td>\n",
       "      <td>0</td>\n",
       "      <td>0</td>\n",
       "      <td>4</td>\n",
       "      <td>1</td>\n",
       "      <td>4</td>\n",
       "      <td>0</td>\n",
       "      <td>0</td>\n",
       "      <td>1</td>\n",
       "      <td>1</td>\n",
       "      <td>E01033731</td>\n",
       "    </tr>\n",
       "    <tr>\n",
       "      <th>1629</th>\n",
       "      <td>2019010158328</td>\n",
       "      <td>2</td>\n",
       "      <td>9</td>\n",
       "      <td>0</td>\n",
       "      <td>9</td>\n",
       "      <td>0</td>\n",
       "      <td>2</td>\n",
       "      <td>0</td>\n",
       "      <td>0</td>\n",
       "      <td>0</td>\n",
       "      <td>...</td>\n",
       "      <td>0</td>\n",
       "      <td>0</td>\n",
       "      <td>4</td>\n",
       "      <td>1</td>\n",
       "      <td>1</td>\n",
       "      <td>0</td>\n",
       "      <td>0</td>\n",
       "      <td>1</td>\n",
       "      <td>1</td>\n",
       "      <td>E01033589</td>\n",
       "    </tr>\n",
       "    <tr>\n",
       "      <th>1630</th>\n",
       "      <td>2019010158328</td>\n",
       "      <td>3</td>\n",
       "      <td>19</td>\n",
       "      <td>0</td>\n",
       "      <td>9</td>\n",
       "      <td>0</td>\n",
       "      <td>2</td>\n",
       "      <td>0</td>\n",
       "      <td>0</td>\n",
       "      <td>0</td>\n",
       "      <td>...</td>\n",
       "      <td>0</td>\n",
       "      <td>0</td>\n",
       "      <td>4</td>\n",
       "      <td>1</td>\n",
       "      <td>1</td>\n",
       "      <td>0</td>\n",
       "      <td>0</td>\n",
       "      <td>1</td>\n",
       "      <td>1</td>\n",
       "      <td>E01033589</td>\n",
       "    </tr>\n",
       "  </tbody>\n",
       "</table>\n",
       "<p>5 rows × 54 columns</p>\n",
       "</div>"
      ],
      "text/plain": [
       "     Accident_Index  Vehicle_Reference  Vehicle_Type  Towing_and_Articulation  \\\n",
       "620   2019010156538                  1             9                        0   \n",
       "622   2019010156538                  3             9                        0   \n",
       "760   2019010156785                  1             9                        0   \n",
       "1629  2019010158328                  2             9                        0   \n",
       "1630  2019010158328                  3            19                        0   \n",
       "\n",
       "      Vehicle_Manoeuvre  Vehicle_Location-Restricted_Lane  Junction_Location  \\\n",
       "620                  18                                 0                  8   \n",
       "622                  18                                 0                  4   \n",
       "760                   9                                 0                  1   \n",
       "1629                  9                                 0                  2   \n",
       "1630                  9                                 0                  2   \n",
       "\n",
       "      Skidding_and_Overturning  Hit_Object_in_Carriageway  \\\n",
       "620                          0                          0   \n",
       "622                          0                          0   \n",
       "760                          0                          0   \n",
       "1629                         0                          0   \n",
       "1630                         0                          0   \n",
       "\n",
       "      Vehicle_Leaving_Carriageway  ...  Pedestrian_Crossing-Human_Control  \\\n",
       "620                             0  ...                                  0   \n",
       "622                             0  ...                                  0   \n",
       "760                             0  ...                                  0   \n",
       "1629                            0  ...                                  0   \n",
       "1630                            0  ...                                  0   \n",
       "\n",
       "      Pedestrian_Crossing-Physical_Facilities  Light_Conditions  \\\n",
       "620                                         0                 4   \n",
       "622                                         0                 4   \n",
       "760                                         0                 4   \n",
       "1629                                        0                 4   \n",
       "1630                                        0                 4   \n",
       "\n",
       "      Weather_Conditions  Road_Surface_Conditions  Special_Conditions_at_Site  \\\n",
       "620                    1                        1                           0   \n",
       "622                    1                        1                           0   \n",
       "760                    1                        4                           0   \n",
       "1629                   1                        1                           0   \n",
       "1630                   1                        1                           0   \n",
       "\n",
       "      Carriageway_Hazards  Urban_or_Rural_Area  \\\n",
       "620                     0                    1   \n",
       "622                     0                    1   \n",
       "760                     0                    1   \n",
       "1629                    0                    1   \n",
       "1630                    0                    1   \n",
       "\n",
       "      Did_Police_Officer_Attend_Scene_of_Accident  LSOA_of_Accident_Location  \n",
       "620                                             1                  E01000066  \n",
       "622                                             1                  E01000066  \n",
       "760                                             1                  E01033731  \n",
       "1629                                            1                  E01033589  \n",
       "1630                                            1                  E01033589  \n",
       "\n",
       "[5 rows x 54 columns]"
      ]
     },
     "execution_count": 20,
     "metadata": {},
     "output_type": "execute_result"
    }
   ],
   "source": [
    "MergdfClean = Mergdf.dropna()\n",
    "MergdfClean = MergdfClean[MergdfClean.select_dtypes(include=[np.number]).ge(0).all(1)]\n",
    "\n",
    "MergdfClean.head()"
   ]
  },
  {
   "cell_type": "code",
   "execution_count": 21,
   "metadata": {},
   "outputs": [],
   "source": [
    "MergdfMotorBike = MergdfClean[(MergdfClean['Vehicle_Type']==2) | (MergdfClean['Vehicle_Type']==3) | (MergdfClean['Vehicle_Type']==4) | (MergdfClean['Vehicle_Type']==5)|(MergdfClean['Vehicle_Type']==23)|(MergdfClean['Vehicle_Type']==97)]"
   ]
  },
  {
   "cell_type": "markdown",
   "metadata": {},
   "source": [
    "#### Significant Day of Week and hour of Day "
   ]
  },
  {
   "cell_type": "code",
   "execution_count": 22,
   "metadata": {},
   "outputs": [
    {
     "data": {
      "image/png": "[encoded data removed]",
      "text/plain": [
       "<Figure size 432x360 with 1 Axes>"
      ]
     },
     "metadata": {},
     "output_type": "display_data"
    }
   ],
   "source": [
    "WeekdayAccidentBike = MergdfMotorBike['Day_of_Week'].value_counts()\n",
    "WeekdayAccidentBike.plot(kind='pie',autopct='%1.1f%%', title='Bike accident at each day of Week', ylabel='Number of Accident',\n",
    "         xlabel='Days of Week', figsize=(6, 5))\n",
    "plt.show()"
   ]
  },
  {
   "cell_type": "markdown",
   "metadata": {},
   "source": [
    "Highest number of accident is reported at Friday (6). Furthermore, Wednesday has the second highest number of recorde accident for bikes. "
   ]
  },
  {
   "cell_type": "code",
   "execution_count": 23,
   "metadata": {},
   "outputs": [],
   "source": [
    "hoursBike = []\n",
    "for i,val in enumerate(MergdfMotorBike['Time']):\n",
    "    hour = val[0:2]\n",
    "    hoursBike.append(hour)\n",
    "    \n",
    "hoursBike.sort()"
   ]
  },
  {
   "cell_type": "code",
   "execution_count": 24,
   "metadata": {},
   "outputs": [
    {
     "data": {
      "image/png": "[encoded data removed]",
      "text/plain": [
       "<Figure size 432x288 with 1 Axes>"
      ]
     },
     "metadata": {
      "needs_background": "light"
     },
     "output_type": "display_data"
    }
   ],
   "source": [
    "plt.hist(hoursBike,bins=47);\n",
    "plt.title(\"Bike accident at each hours of day\")\n",
    "plt.ylabel(\"Number of Accident\")\n",
    "plt.xlabel(\"Hours of the day\")\n",
    "plt.show()"
   ]
  },
  {
   "cell_type": "markdown",
   "metadata": {},
   "source": [
    "For bikes the after noon time is not good enough. More number of accidents recored after 1700 and even after 1600 hours. The afternoon (after 1600) and evening (after 1700 till 1900) time is not good for bikes.  "
   ]
  },
  {
   "cell_type": "markdown",
   "metadata": {},
   "source": [
    "### (c)\tFor Pedestrians involved in accidents, are there significant hours of the day, and days of the week, on which they are more likely to be involved?"
   ]
  },
  {
   "cell_type": "code",
   "execution_count": 25,
   "metadata": {},
   "outputs": [],
   "source": [
    "MergdfAccidentPedestrian = MergdfClean[(MergdfClean['Pedestrian_Crossing-Human_Control']==1) | (MergdfClean['Pedestrian_Crossing-Human_Control']==2)]"
   ]
  },
  {
   "cell_type": "code",
   "execution_count": 26,
   "metadata": {},
   "outputs": [
    {
     "data": {
      "text/html": [
       "<div>\n",
       "<style scoped>\n",
       "    .dataframe tbody tr th:only-of-type {\n",
       "        vertical-align: middle;\n",
       "    }\n",
       "\n",
       "    .dataframe tbody tr th {\n",
       "        vertical-align: top;\n",
       "    }\n",
       "\n",
       "    .dataframe thead th {\n",
       "        text-align: right;\n",
       "    }\n",
       "</style>\n",
       "<table border=\"1\" class=\"dataframe\">\n",
       "  <thead>\n",
       "    <tr style=\"text-align: right;\">\n",
       "      <th></th>\n",
       "      <th>Accident_Index</th>\n",
       "      <th>Vehicle_Reference</th>\n",
       "      <th>Vehicle_Type</th>\n",
       "      <th>Towing_and_Articulation</th>\n",
       "      <th>Vehicle_Manoeuvre</th>\n",
       "      <th>Vehicle_Location-Restricted_Lane</th>\n",
       "      <th>Junction_Location</th>\n",
       "      <th>Skidding_and_Overturning</th>\n",
       "      <th>Hit_Object_in_Carriageway</th>\n",
       "      <th>Vehicle_Leaving_Carriageway</th>\n",
       "      <th>...</th>\n",
       "      <th>Pedestrian_Crossing-Human_Control</th>\n",
       "      <th>Pedestrian_Crossing-Physical_Facilities</th>\n",
       "      <th>Light_Conditions</th>\n",
       "      <th>Weather_Conditions</th>\n",
       "      <th>Road_Surface_Conditions</th>\n",
       "      <th>Special_Conditions_at_Site</th>\n",
       "      <th>Carriageway_Hazards</th>\n",
       "      <th>Urban_or_Rural_Area</th>\n",
       "      <th>Did_Police_Officer_Attend_Scene_of_Accident</th>\n",
       "      <th>LSOA_of_Accident_Location</th>\n",
       "    </tr>\n",
       "  </thead>\n",
       "  <tbody>\n",
       "    <tr>\n",
       "      <th>6524</th>\n",
       "      <td>2019010166527</td>\n",
       "      <td>1</td>\n",
       "      <td>9</td>\n",
       "      <td>0</td>\n",
       "      <td>6</td>\n",
       "      <td>0</td>\n",
       "      <td>1</td>\n",
       "      <td>0</td>\n",
       "      <td>0</td>\n",
       "      <td>0</td>\n",
       "      <td>...</td>\n",
       "      <td>2</td>\n",
       "      <td>1</td>\n",
       "      <td>1</td>\n",
       "      <td>1</td>\n",
       "      <td>1</td>\n",
       "      <td>0</td>\n",
       "      <td>0</td>\n",
       "      <td>1</td>\n",
       "      <td>1</td>\n",
       "      <td>E01004438</td>\n",
       "    </tr>\n",
       "    <tr>\n",
       "      <th>6525</th>\n",
       "      <td>2019010166527</td>\n",
       "      <td>2</td>\n",
       "      <td>3</td>\n",
       "      <td>0</td>\n",
       "      <td>13</td>\n",
       "      <td>0</td>\n",
       "      <td>1</td>\n",
       "      <td>0</td>\n",
       "      <td>0</td>\n",
       "      <td>0</td>\n",
       "      <td>...</td>\n",
       "      <td>2</td>\n",
       "      <td>1</td>\n",
       "      <td>1</td>\n",
       "      <td>1</td>\n",
       "      <td>1</td>\n",
       "      <td>0</td>\n",
       "      <td>0</td>\n",
       "      <td>1</td>\n",
       "      <td>1</td>\n",
       "      <td>E01004438</td>\n",
       "    </tr>\n",
       "    <tr>\n",
       "      <th>7017</th>\n",
       "      <td>2019010167392</td>\n",
       "      <td>1</td>\n",
       "      <td>9</td>\n",
       "      <td>0</td>\n",
       "      <td>9</td>\n",
       "      <td>0</td>\n",
       "      <td>5</td>\n",
       "      <td>0</td>\n",
       "      <td>0</td>\n",
       "      <td>0</td>\n",
       "      <td>...</td>\n",
       "      <td>2</td>\n",
       "      <td>4</td>\n",
       "      <td>4</td>\n",
       "      <td>2</td>\n",
       "      <td>2</td>\n",
       "      <td>0</td>\n",
       "      <td>0</td>\n",
       "      <td>1</td>\n",
       "      <td>1</td>\n",
       "      <td>E01003773</td>\n",
       "    </tr>\n",
       "    <tr>\n",
       "      <th>7949</th>\n",
       "      <td>2019010169211</td>\n",
       "      <td>1</td>\n",
       "      <td>9</td>\n",
       "      <td>0</td>\n",
       "      <td>18</td>\n",
       "      <td>0</td>\n",
       "      <td>1</td>\n",
       "      <td>0</td>\n",
       "      <td>0</td>\n",
       "      <td>0</td>\n",
       "      <td>...</td>\n",
       "      <td>2</td>\n",
       "      <td>4</td>\n",
       "      <td>1</td>\n",
       "      <td>1</td>\n",
       "      <td>1</td>\n",
       "      <td>0</td>\n",
       "      <td>0</td>\n",
       "      <td>1</td>\n",
       "      <td>1</td>\n",
       "      <td>E01000104</td>\n",
       "    </tr>\n",
       "    <tr>\n",
       "      <th>9895</th>\n",
       "      <td>2019010172417</td>\n",
       "      <td>1</td>\n",
       "      <td>9</td>\n",
       "      <td>0</td>\n",
       "      <td>7</td>\n",
       "      <td>0</td>\n",
       "      <td>1</td>\n",
       "      <td>0</td>\n",
       "      <td>0</td>\n",
       "      <td>0</td>\n",
       "      <td>...</td>\n",
       "      <td>2</td>\n",
       "      <td>5</td>\n",
       "      <td>1</td>\n",
       "      <td>1</td>\n",
       "      <td>1</td>\n",
       "      <td>0</td>\n",
       "      <td>0</td>\n",
       "      <td>1</td>\n",
       "      <td>1</td>\n",
       "      <td>E01001667</td>\n",
       "    </tr>\n",
       "    <tr>\n",
       "      <th>...</th>\n",
       "      <td>...</td>\n",
       "      <td>...</td>\n",
       "      <td>...</td>\n",
       "      <td>...</td>\n",
       "      <td>...</td>\n",
       "      <td>...</td>\n",
       "      <td>...</td>\n",
       "      <td>...</td>\n",
       "      <td>...</td>\n",
       "      <td>...</td>\n",
       "      <td>...</td>\n",
       "      <td>...</td>\n",
       "      <td>...</td>\n",
       "      <td>...</td>\n",
       "      <td>...</td>\n",
       "      <td>...</td>\n",
       "      <td>...</td>\n",
       "      <td>...</td>\n",
       "      <td>...</td>\n",
       "      <td>...</td>\n",
       "      <td>...</td>\n",
       "    </tr>\n",
       "    <tr>\n",
       "      <th>176493</th>\n",
       "      <td>2019470897008</td>\n",
       "      <td>1</td>\n",
       "      <td>9</td>\n",
       "      <td>0</td>\n",
       "      <td>18</td>\n",
       "      <td>0</td>\n",
       "      <td>2</td>\n",
       "      <td>0</td>\n",
       "      <td>0</td>\n",
       "      <td>0</td>\n",
       "      <td>...</td>\n",
       "      <td>2</td>\n",
       "      <td>1</td>\n",
       "      <td>4</td>\n",
       "      <td>2</td>\n",
       "      <td>5</td>\n",
       "      <td>0</td>\n",
       "      <td>0</td>\n",
       "      <td>1</td>\n",
       "      <td>1</td>\n",
       "      <td>E01020938</td>\n",
       "    </tr>\n",
       "    <tr>\n",
       "      <th>176834</th>\n",
       "      <td>2019470902958</td>\n",
       "      <td>1</td>\n",
       "      <td>9</td>\n",
       "      <td>0</td>\n",
       "      <td>7</td>\n",
       "      <td>0</td>\n",
       "      <td>6</td>\n",
       "      <td>0</td>\n",
       "      <td>0</td>\n",
       "      <td>0</td>\n",
       "      <td>...</td>\n",
       "      <td>1</td>\n",
       "      <td>1</td>\n",
       "      <td>7</td>\n",
       "      <td>9</td>\n",
       "      <td>1</td>\n",
       "      <td>0</td>\n",
       "      <td>0</td>\n",
       "      <td>1</td>\n",
       "      <td>2</td>\n",
       "      <td>E01020973</td>\n",
       "    </tr>\n",
       "    <tr>\n",
       "      <th>178897</th>\n",
       "      <td>2019471901354</td>\n",
       "      <td>1</td>\n",
       "      <td>3</td>\n",
       "      <td>0</td>\n",
       "      <td>18</td>\n",
       "      <td>0</td>\n",
       "      <td>8</td>\n",
       "      <td>1</td>\n",
       "      <td>11</td>\n",
       "      <td>0</td>\n",
       "      <td>...</td>\n",
       "      <td>2</td>\n",
       "      <td>4</td>\n",
       "      <td>1</td>\n",
       "      <td>1</td>\n",
       "      <td>1</td>\n",
       "      <td>5</td>\n",
       "      <td>2</td>\n",
       "      <td>1</td>\n",
       "      <td>1</td>\n",
       "      <td>E01021047</td>\n",
       "    </tr>\n",
       "    <tr>\n",
       "      <th>178898</th>\n",
       "      <td>2019471901354</td>\n",
       "      <td>2</td>\n",
       "      <td>9</td>\n",
       "      <td>0</td>\n",
       "      <td>18</td>\n",
       "      <td>0</td>\n",
       "      <td>8</td>\n",
       "      <td>0</td>\n",
       "      <td>0</td>\n",
       "      <td>0</td>\n",
       "      <td>...</td>\n",
       "      <td>2</td>\n",
       "      <td>4</td>\n",
       "      <td>1</td>\n",
       "      <td>1</td>\n",
       "      <td>1</td>\n",
       "      <td>5</td>\n",
       "      <td>2</td>\n",
       "      <td>1</td>\n",
       "      <td>1</td>\n",
       "      <td>E01021047</td>\n",
       "    </tr>\n",
       "    <tr>\n",
       "      <th>179182</th>\n",
       "      <td>2019471901647</td>\n",
       "      <td>1</td>\n",
       "      <td>9</td>\n",
       "      <td>0</td>\n",
       "      <td>18</td>\n",
       "      <td>0</td>\n",
       "      <td>2</td>\n",
       "      <td>0</td>\n",
       "      <td>0</td>\n",
       "      <td>0</td>\n",
       "      <td>...</td>\n",
       "      <td>2</td>\n",
       "      <td>1</td>\n",
       "      <td>5</td>\n",
       "      <td>1</td>\n",
       "      <td>1</td>\n",
       "      <td>0</td>\n",
       "      <td>0</td>\n",
       "      <td>1</td>\n",
       "      <td>1</td>\n",
       "      <td>E01020985</td>\n",
       "    </tr>\n",
       "  </tbody>\n",
       "</table>\n",
       "<p>189 rows × 54 columns</p>\n",
       "</div>"
      ],
      "text/plain": [
       "       Accident_Index  Vehicle_Reference  Vehicle_Type  \\\n",
       "6524    2019010166527                  1             9   \n",
       "6525    2019010166527                  2             3   \n",
       "7017    2019010167392                  1             9   \n",
       "7949    2019010169211                  1             9   \n",
       "9895    2019010172417                  1             9   \n",
       "...               ...                ...           ...   \n",
       "176493  2019470897008                  1             9   \n",
       "176834  2019470902958                  1             9   \n",
       "178897  2019471901354                  1             3   \n",
       "178898  2019471901354                  2             9   \n",
       "179182  2019471901647                  1             9   \n",
       "\n",
       "        Towing_and_Articulation  Vehicle_Manoeuvre  \\\n",
       "6524                          0                  6   \n",
       "6525                          0                 13   \n",
       "7017                          0                  9   \n",
       "7949                          0                 18   \n",
       "9895                          0                  7   \n",
       "...                         ...                ...   \n",
       "176493                        0                 18   \n",
       "176834                        0                  7   \n",
       "178897                        0                 18   \n",
       "178898                        0                 18   \n",
       "179182                        0                 18   \n",
       "\n",
       "        Vehicle_Location-Restricted_Lane  Junction_Location  \\\n",
       "6524                                   0                  1   \n",
       "6525                                   0                  1   \n",
       "7017                                   0                  5   \n",
       "7949                                   0                  1   \n",
       "9895                                   0                  1   \n",
       "...                                  ...                ...   \n",
       "176493                                 0                  2   \n",
       "176834                                 0                  6   \n",
       "178897                                 0                  8   \n",
       "178898                                 0                  8   \n",
       "179182                                 0                  2   \n",
       "\n",
       "        Skidding_and_Overturning  Hit_Object_in_Carriageway  \\\n",
       "6524                           0                          0   \n",
       "6525                           0                          0   \n",
       "7017                           0                          0   \n",
       "7949                           0                          0   \n",
       "9895                           0                          0   \n",
       "...                          ...                        ...   \n",
       "176493                         0                          0   \n",
       "176834                         0                          0   \n",
       "178897                         1                         11   \n",
       "178898                         0                          0   \n",
       "179182                         0                          0   \n",
       "\n",
       "        Vehicle_Leaving_Carriageway  ...  Pedestrian_Crossing-Human_Control  \\\n",
       "6524                              0  ...                                  2   \n",
       "6525                              0  ...                                  2   \n",
       "7017                              0  ...                                  2   \n",
       "7949                              0  ...                                  2   \n",
       "9895                              0  ...                                  2   \n",
       "...                             ...  ...                                ...   \n",
       "176493                            0  ...                                  2   \n",
       "176834                            0  ...                                  1   \n",
       "178897                            0  ...                                  2   \n",
       "178898                            0  ...                                  2   \n",
       "179182                            0  ...                                  2   \n",
       "\n",
       "        Pedestrian_Crossing-Physical_Facilities  Light_Conditions  \\\n",
       "6524                                          1                 1   \n",
       "6525                                          1                 1   \n",
       "7017                                          4                 4   \n",
       "7949                                          4                 1   \n",
       "9895                                          5                 1   \n",
       "...                                         ...               ...   \n",
       "176493                                        1                 4   \n",
       "176834                                        1                 7   \n",
       "178897                                        4                 1   \n",
       "178898                                        4                 1   \n",
       "179182                                        1                 5   \n",
       "\n",
       "        Weather_Conditions  Road_Surface_Conditions  \\\n",
       "6524                     1                        1   \n",
       "6525                     1                        1   \n",
       "7017                     2                        2   \n",
       "7949                     1                        1   \n",
       "9895                     1                        1   \n",
       "...                    ...                      ...   \n",
       "176493                   2                        5   \n",
       "176834                   9                        1   \n",
       "178897                   1                        1   \n",
       "178898                   1                        1   \n",
       "179182                   1                        1   \n",
       "\n",
       "        Special_Conditions_at_Site  Carriageway_Hazards  Urban_or_Rural_Area  \\\n",
       "6524                             0                    0                    1   \n",
       "6525                             0                    0                    1   \n",
       "7017                             0                    0                    1   \n",
       "7949                             0                    0                    1   \n",
       "9895                             0                    0                    1   \n",
       "...                            ...                  ...                  ...   \n",
       "176493                           0                    0                    1   \n",
       "176834                           0                    0                    1   \n",
       "178897                           5                    2                    1   \n",
       "178898                           5                    2                    1   \n",
       "179182                           0                    0                    1   \n",
       "\n",
       "        Did_Police_Officer_Attend_Scene_of_Accident  LSOA_of_Accident_Location  \n",
       "6524                                              1                  E01004438  \n",
       "6525                                              1                  E01004438  \n",
       "7017                                              1                  E01003773  \n",
       "7949                                              1                  E01000104  \n",
       "9895                                              1                  E01001667  \n",
       "...                                             ...                        ...  \n",
       "176493                                            1                  E01020938  \n",
       "176834                                            2                  E01020973  \n",
       "178897                                            1                  E01021047  \n",
       "178898                                            1                  E01021047  \n",
       "179182                                            1                  E01020985  \n",
       "\n",
       "[189 rows x 54 columns]"
      ]
     },
     "execution_count": 26,
     "metadata": {},
     "output_type": "execute_result"
    }
   ],
   "source": [
    "MergdfAccidentPedestrian"
   ]
  },
  {
   "cell_type": "code",
   "execution_count": 27,
   "metadata": {},
   "outputs": [
    {
     "data": {
      "image/png": "[encoded data removed]",
      "text/plain": [
       "<Figure size 432x360 with 1 Axes>"
      ]
     },
     "metadata": {},
     "output_type": "display_data"
    }
   ],
   "source": [
    "WeekdayAccidentPedestrain = MergdfAccidentPedestrian['Day_of_Week'].value_counts()\n",
    "WeekdayAccidentPedestrain.plot(kind='pie',autopct='%1.1f%%', title='Bike accident at each day of Week', ylabel='Number of Accident',\n",
    "         xlabel='Days of Week', figsize=(6, 5))\n",
    "plt.show()"
   ]
  },
  {
   "cell_type": "code",
   "execution_count": 28,
   "metadata": {},
   "outputs": [],
   "source": [
    "hoursBike = []\n",
    "for i,val in enumerate(MergdfAccidentPedestrian['Time']):\n",
    "    hour = val[0:2]\n",
    "    hoursBike.append(hour)\n",
    "    \n",
    "hoursBike.sort()"
   ]
  },
  {
   "cell_type": "code",
   "execution_count": 29,
   "metadata": {},
   "outputs": [
    {
     "data": {
      "image/png": "[encoded data removed]",
      "text/plain": [
       "<Figure size 432x288 with 1 Axes>"
      ]
     },
     "metadata": {
      "needs_background": "light"
     },
     "output_type": "display_data"
    }
   ],
   "source": [
    "plt.hist(hoursBike,bins=47);\n",
    "plt.title(\"Accident invole Pedestrain at each hours of day\")\n",
    "plt.ylabel(\"Number of Accident\")\n",
    "plt.xlabel(\"Hours of the day\")\n",
    "plt.show()"
   ]
  },
  {
   "cell_type": "markdown",
   "metadata": {},
   "source": [
    "It is clear from the figure that at morning after 800, more number of accident recorded when pedestrians is involved either controll by school crossing petrol or other authorized body."
   ]
  },
  {
   "cell_type": "markdown",
   "metadata": {},
   "source": [
    "### (d)\tWhat impact, if any, does daylight savings have on road traffic accidents in the week after it starts and stops?"
   ]
  },
  {
   "cell_type": "code",
   "execution_count": 30,
   "metadata": {},
   "outputs": [
    {
     "data": {
      "image/png": "[encoded data removed]",
      "text/plain": [
       "<Figure size 432x360 with 1 Axes>"
      ]
     },
     "metadata": {},
     "output_type": "display_data"
    }
   ],
   "source": [
    "plt.figure()\n",
    "PieChart = MergdfClean['Light_Conditions'].value_counts()\n",
    "PieChart.plot(kind='pie',autopct='%1.1f%%', title='Light Conditions',\n",
    "         figsize=(6, 5))\n",
    "\n",
    "plt.show()"
   ]
  },
  {
   "cell_type": "markdown",
   "metadata": {},
   "source": [
    "Here 1 means the daylight. More number of accidents have been recorded during daylight. It might be because of more number of vehicles in day. The second highest is 4 (Lights lit) which is about 21.3%"
   ]
  },
  {
   "cell_type": "markdown",
   "metadata": {},
   "source": [
    "### (e)\tWhat impact, if any, does sunrise and sunset times have on road traffic accidents?"
   ]
  },
  {
   "cell_type": "code",
   "execution_count": 31,
   "metadata": {},
   "outputs": [],
   "source": [
    "MergdfClean.dropna(subset = ['Time'], inplace= True)"
   ]
  },
  {
   "cell_type": "code",
   "execution_count": 32,
   "metadata": {},
   "outputs": [],
   "source": [
    "MergdfClean['Hour'] = MergdfClean['Time'].apply(lambda x : int(str(x).split(':')[0]))\n",
    "# MergdfClean['Date'] = pd.to_datetime(MergdfClean['Date'], format='%d/%m/%y').dt.date\n",
    "MergdfClean['Time'] = pd.to_datetime(MergdfClean['Time'], format='%H:%M').dt.time\n",
    "MergdfClean['Month'] = pd.DatetimeIndex(MergdfClean['Date']).month\n",
    "\n",
    "byHour = MergdfClean[['Hour','Accident_Index']].groupby('Hour').count()\n",
    "byHour['Accident_Index'] = byHour['Accident_Index'].apply(lambda x: x/366) # Transform total to per day value\n"
   ]
  },
  {
   "cell_type": "code",
   "execution_count": 33,
   "metadata": {},
   "outputs": [
    {
     "data": {
      "image/png": "[encoded data removed]",
      "text/plain": [
       "<Figure size 432x288 with 1 Axes>"
      ]
     },
     "metadata": {
      "needs_background": "light"
     },
     "output_type": "display_data"
    }
   ],
   "source": [
    "plt.figure\n",
    "plt.plot(byHour.index, byHour['Accident_Index'], c='b')\n",
    "plt.title('Daily Mean Accident Count by Hour - 2019', fontsize=16)\n",
    "plt.xlabel(\"Time of the day\")\n",
    "plt.ylabel(\"Mean\")\n",
    "plt.show()"
   ]
  },
  {
   "cell_type": "markdown",
   "metadata": {},
   "source": [
    "Figure shows that there is a peak in average accidents at Sunrise and at Sunset. Usually the morning and evening time of the day is considered as rush times. There is very low number of accident at night because of no rush at that time. "
   ]
  },
  {
   "cell_type": "markdown",
   "metadata": {},
   "source": [
    "#### Daily Mean accident by hour including Casualities"
   ]
  },
  {
   "cell_type": "code",
   "execution_count": 34,
   "metadata": {},
   "outputs": [],
   "source": [
    "MergdfWithCasuality.dropna(subset = ['Time'], inplace= True)\n",
    "MergdfWithCasuality['Hour'] = MergdfWithCasuality['Time'].apply(lambda x : int(str(x).split(':')[0]))\n",
    "# MergdfClean['Date'] = pd.to_datetime(MergdfClean['Date'], format='%d/%m/%y').dt.date\n",
    "MergdfWithCasuality['Time'] = pd.to_datetime(MergdfWithCasuality['Time'], format='%H:%M').dt.time\n",
    "MergdfWithCasuality['Month'] = pd.DatetimeIndex(MergdfWithCasuality['Date']).month\n",
    "\n"
   ]
  },
  {
   "cell_type": "code",
   "execution_count": 36,
   "metadata": {},
   "outputs": [],
   "source": [
    "byHourCas = MergdfWithCasuality[['Hour','Accident_Index']].groupby('Hour').sum()\n",
    "byHourCas['Accident_Index'] = byHour['Accident_Index'].apply(lambda x: x/366) # Transform total to per day value\n"
   ]
  },
  {
   "cell_type": "code",
   "execution_count": 40,
   "metadata": {},
   "outputs": [
    {
     "data": {
      "image/png": "[encoded data removed]",
      "text/plain": [
       "<Figure size 432x288 with 1 Axes>"
      ]
     },
     "metadata": {
      "needs_background": "light"
     },
     "output_type": "display_data"
    }
   ],
   "source": [
    "plt.figure\n",
    "plt.plot(byHourCas.index, byHourCas['Accident_Index'], c='b')\n",
    "plt.title('Total Casualities by Hour - 2019', fontsize=16)\n",
    "plt.xlabel(\"Time of the day\")\n",
    "plt.ylabel(\"Mean\")\n",
    "plt.show()\n"
   ]
  },
  {
   "cell_type": "markdown",
   "metadata": {},
   "source": [
    "### (f)\tAre there particular types of vehicles (engine capacity, age of vehicle, etc.) that are more frequently involved in road traffic accidents?"
   ]
  },
  {
   "cell_type": "code",
   "execution_count": 41,
   "metadata": {},
   "outputs": [
    {
     "data": {
      "text/plain": [
       "1         1\n",
       "48        1\n",
       "49       54\n",
       "50       17\n",
       "89        2\n",
       "         ..\n",
       "12809    10\n",
       "12882     1\n",
       "12900     7\n",
       "12902    10\n",
       "14500     1\n",
       "Name: Engine_Capacity_(CC), Length: 476, dtype: int64"
      ]
     },
     "execution_count": 41,
     "metadata": {},
     "output_type": "execute_result"
    },
    {
     "data": {
      "image/png": "[encoded data removed]",
      "text/plain": [
       "<Figure size 1080x360 with 1 Axes>"
      ]
     },
     "metadata": {
      "needs_background": "light"
     },
     "output_type": "display_data"
    },
    {
     "data": {
      "image/png": "[encoded data removed]",
      "text/plain": [
       "<Figure size 1080x360 with 1 Axes>"
      ]
     },
     "metadata": {
      "needs_background": "light"
     },
     "output_type": "display_data"
    }
   ],
   "source": [
    "plt.figure()\n",
    "\n",
    "VehicleType = MergdfClean['Vehicle_Type'].value_counts().sort_index()\n",
    "VehicleType.plot(kind='bar', title='Type of Vehicles met with Accident ', ylabel='Number of Accident',\n",
    "         xlabel='Vehicle Type',figsize=(15, 5))\n",
    "\n",
    "plt.figure()\n",
    "VehicleAge = MergdfClean['Age_of_Vehicle'].value_counts().sort_index()\n",
    "VehicleAge.plot(kind='bar', title='Accident base on Vehicles age', ylabel='Number of Accident',\n",
    "         xlabel='Vehicle Age', figsize=(15, 5))\n",
    "\n",
    "EngineCapacityAccident = MergdfClean['Engine_Capacity_(CC)'].value_counts().sort_index()\n",
    "EngineCapacityAccident"
   ]
  },
  {
   "cell_type": "markdown",
   "metadata": {},
   "source": [
    "The engine capacity has highest number of accidents is 1598.\n",
    "\n",
    "The specific type of vehicle that are more frequently involved in road traffic accidents is car which is represented by number 9.\n",
    "\n",
    "Furthermore, the second image shows that the Vehicles with age 4 and then 3 are mostly affected by accidents."
   ]
  },
  {
   "cell_type": "markdown",
   "metadata": {},
   "source": [
    "### (g)\tAre there particular conditions (weather, geographic location, situations) that generate more road traffic accidents?"
   ]
  },
  {
   "cell_type": "code",
   "execution_count": 42,
   "metadata": {},
   "outputs": [
    {
     "data": {
      "image/png": "[encoded data removed]",
      "text/plain": [
       "<Figure size 1200x1200 with 1 Axes>"
      ]
     },
     "metadata": {},
     "output_type": "display_data"
    }
   ],
   "source": [
    "from matplotlib.pyplot import figure\n",
    "figure(figsize=(15, 15), dpi=80)\n",
    "PieChart = MergdfClean['Weather_Conditions'].value_counts()\n",
    "PieChart.plot(kind='pie',autopct='%1.1f%%', title='Weather Conditions',)\n",
    "plt.show()\n"
   ]
  },
  {
   "cell_type": "markdown",
   "metadata": {},
   "source": [
    "Above figures shows the proportion of weather towardes the accidensts. It shows that 1 (Fine no high winds) while the second major contribution to it is 2 (Raining no high winds) which is 12.6%. "
   ]
  },
  {
   "cell_type": "markdown",
   "metadata": {},
   "source": [
    "### (h)\tHow does driver related variables affect the outcome (e.g., age of the driver, and the purpose of the journey)?"
   ]
  },
  {
   "cell_type": "code",
   "execution_count": 43,
   "metadata": {},
   "outputs": [
    {
     "data": {
      "image/png": "[encoded data removed]",
      "text/plain": [
       "<Figure size 1080x1080 with 1 Axes>"
      ]
     },
     "metadata": {
      "needs_background": "light"
     },
     "output_type": "display_data"
    },
    {
     "data": {
      "image/png": "[encoded data removed]",
      "text/plain": [
       "<Figure size 432x360 with 1 Axes>"
      ]
     },
     "metadata": {
      "needs_background": "light"
     },
     "output_type": "display_data"
    }
   ],
   "source": [
    "plt.figure()\n",
    "plt.subplot(211)\n",
    "\n",
    "DriverAge = MergdfClean['Age_of_Driver'].value_counts().sort_index()\n",
    "DriverAge.plot(kind='bar', title='Accident base on age of driver ', ylabel='Number of Accident',\n",
    "       xlabel='Age of Driver',figsize=(15, 15))\n",
    "plt.show()\n",
    "\n",
    "plt.figure()\n",
    "plt.subplot(212)\n",
    "JouneyPurpose = MergdfClean['Journey_Purpose_of_Driver'].value_counts().sort_index()\n",
    "JouneyPurpose.plot(kind='bar', title='Accident base on Journey Purpose', ylabel='Number of Accident',\n",
    "         xlabel='Purpose of Journy', figsize=(6, 5))\n",
    "plt.show()"
   ]
  },
  {
   "cell_type": "markdown",
   "metadata": {},
   "source": [
    "First image illustrates the number of accidents based on the age of the driver. It further shows that younger people around age 20,24,27 and 30 are more likely met with accidents. \n",
    "\n",
    "Furthermore, the second image shows that majority of people met with accidents is recorded for \"Not known\" (6). While the second highest reason of journey is other (5) and the the third highest journey purpose where people met with accident is \"as part of their work (1)\". "
   ]
  },
  {
   "cell_type": "markdown",
   "metadata": {},
   "source": [
    "#### Age and Purpose of Jounrey of the Casualities"
   ]
  },
  {
   "cell_type": "code",
   "execution_count": 44,
   "metadata": {},
   "outputs": [
    {
     "data": {
      "image/png": "[encoded data removed]",
      "text/plain": [
       "<Figure size 1440x1080 with 1 Axes>"
      ]
     },
     "metadata": {
      "needs_background": "light"
     },
     "output_type": "display_data"
    },
    {
     "data": {
      "image/png": "[encoded data removed]",
      "text/plain": [
       "<Figure size 720x720 with 1 Axes>"
      ]
     },
     "metadata": {},
     "output_type": "display_data"
    }
   ],
   "source": [
    "plt.figure()\n",
    "plt.subplot(211)\n",
    "\n",
    "DriverAge = MergdfWithCasuality['Age_of_Casualty'].value_counts().sort_index()\n",
    "DriverAge.plot(kind='bar', title='Accident base on Age of Casualties ', ylabel='Number of Accident',\n",
    "       xlabel='Age_of_Casualty',figsize=(20, 15))\n",
    "plt.show()\n",
    "\n",
    "plt.figure()\n",
    "plt.subplot(212)\n",
    "JouneyPurpose = MergdfWithCasuality['Journey_Purpose_of_Driver'].value_counts().sort_index()\n",
    "JouneyPurpose.plot(kind='pie', title='Accident base on Journey Purpose', ylabel='Number of Accident',\n",
    "         xlabel='Purpose of Journy', figsize=(10, 10))\n",
    "plt.show()"
   ]
  },
  {
   "cell_type": "markdown",
   "metadata": {},
   "source": [
    "Above bar charts shows the casualties ages with number of accidence. It also illustrates that more casualties occure between 18 and 33. There is another little peak between the age of 45 to 55. More number people died at this age. Furthermore, the pie charts shows purpose of journey for each casuality. It shows the major contribution to it type 6 (not known). The third major contribution to casuality is 1 (journey as part of their work). "
   ]
  },
  {
   "cell_type": "markdown",
   "metadata": {},
   "source": [
    "### (i)\tCan we make predictions about when and where accidents will occur, and the severity of the injuries sustained from the data supplied to improve road safety? How well do our models compare to government models? "
   ]
  },
  {
   "cell_type": "code",
   "execution_count": 45,
   "metadata": {},
   "outputs": [],
   "source": [
    "from sklearn.neighbors import KNeighborsClassifier\n",
    "from sklearn.model_selection import train_test_split\n",
    "from sklearn import metrics\n",
    "\n",
    "dfActual = pd.read_csv(\"Road Safety Data - Accidents 2019.csv\", low_memory = False)"
   ]
  },
  {
   "cell_type": "code",
   "execution_count": 46,
   "metadata": {},
   "outputs": [],
   "source": [
    "dfSeverity = dfActual[['Accident_Severity', 'Light_Conditions', 'Weather_Conditions', 'Road_Surface_Conditions']]\n",
    "dfClean = dfSeverity[dfSeverity.select_dtypes(include=[np.number]).ge(0).all(1)]\n",
    "dfClean = dfClean.dropna() "
   ]
  },
  {
   "cell_type": "code",
   "execution_count": 47,
   "metadata": {},
   "outputs": [
    {
     "data": {
      "text/html": [
       "<div>\n",
       "<style scoped>\n",
       "    .dataframe tbody tr th:only-of-type {\n",
       "        vertical-align: middle;\n",
       "    }\n",
       "\n",
       "    .dataframe tbody tr th {\n",
       "        vertical-align: top;\n",
       "    }\n",
       "\n",
       "    .dataframe thead th {\n",
       "        text-align: right;\n",
       "    }\n",
       "</style>\n",
       "<table border=\"1\" class=\"dataframe\">\n",
       "  <thead>\n",
       "    <tr style=\"text-align: right;\">\n",
       "      <th></th>\n",
       "      <th>Accident_Severity</th>\n",
       "      <th>Light_Conditions</th>\n",
       "      <th>Weather_Conditions</th>\n",
       "      <th>Road_Surface_Conditions</th>\n",
       "    </tr>\n",
       "  </thead>\n",
       "  <tbody>\n",
       "    <tr>\n",
       "      <th>0</th>\n",
       "      <td>3</td>\n",
       "      <td>1</td>\n",
       "      <td>1</td>\n",
       "      <td>1</td>\n",
       "    </tr>\n",
       "    <tr>\n",
       "      <th>1</th>\n",
       "      <td>3</td>\n",
       "      <td>4</td>\n",
       "      <td>1</td>\n",
       "      <td>1</td>\n",
       "    </tr>\n",
       "    <tr>\n",
       "      <th>2</th>\n",
       "      <td>3</td>\n",
       "      <td>4</td>\n",
       "      <td>1</td>\n",
       "      <td>1</td>\n",
       "    </tr>\n",
       "    <tr>\n",
       "      <th>3</th>\n",
       "      <td>2</td>\n",
       "      <td>4</td>\n",
       "      <td>1</td>\n",
       "      <td>1</td>\n",
       "    </tr>\n",
       "    <tr>\n",
       "      <th>4</th>\n",
       "      <td>3</td>\n",
       "      <td>4</td>\n",
       "      <td>1</td>\n",
       "      <td>1</td>\n",
       "    </tr>\n",
       "    <tr>\n",
       "      <th>...</th>\n",
       "      <td>...</td>\n",
       "      <td>...</td>\n",
       "      <td>...</td>\n",
       "      <td>...</td>\n",
       "    </tr>\n",
       "    <tr>\n",
       "      <th>117531</th>\n",
       "      <td>3</td>\n",
       "      <td>1</td>\n",
       "      <td>1</td>\n",
       "      <td>2</td>\n",
       "    </tr>\n",
       "    <tr>\n",
       "      <th>117532</th>\n",
       "      <td>3</td>\n",
       "      <td>1</td>\n",
       "      <td>1</td>\n",
       "      <td>2</td>\n",
       "    </tr>\n",
       "    <tr>\n",
       "      <th>117533</th>\n",
       "      <td>3</td>\n",
       "      <td>1</td>\n",
       "      <td>1</td>\n",
       "      <td>1</td>\n",
       "    </tr>\n",
       "    <tr>\n",
       "      <th>117534</th>\n",
       "      <td>3</td>\n",
       "      <td>1</td>\n",
       "      <td>1</td>\n",
       "      <td>1</td>\n",
       "    </tr>\n",
       "    <tr>\n",
       "      <th>117535</th>\n",
       "      <td>2</td>\n",
       "      <td>1</td>\n",
       "      <td>1</td>\n",
       "      <td>1</td>\n",
       "    </tr>\n",
       "  </tbody>\n",
       "</table>\n",
       "<p>116187 rows × 4 columns</p>\n",
       "</div>"
      ],
      "text/plain": [
       "        Accident_Severity  Light_Conditions  Weather_Conditions  \\\n",
       "0                       3                 1                   1   \n",
       "1                       3                 4                   1   \n",
       "2                       3                 4                   1   \n",
       "3                       2                 4                   1   \n",
       "4                       3                 4                   1   \n",
       "...                   ...               ...                 ...   \n",
       "117531                  3                 1                   1   \n",
       "117532                  3                 1                   1   \n",
       "117533                  3                 1                   1   \n",
       "117534                  3                 1                   1   \n",
       "117535                  2                 1                   1   \n",
       "\n",
       "        Road_Surface_Conditions  \n",
       "0                             1  \n",
       "1                             1  \n",
       "2                             1  \n",
       "3                             1  \n",
       "4                             1  \n",
       "...                         ...  \n",
       "117531                        2  \n",
       "117532                        2  \n",
       "117533                        1  \n",
       "117534                        1  \n",
       "117535                        1  \n",
       "\n",
       "[116187 rows x 4 columns]"
      ]
     },
     "execution_count": 47,
     "metadata": {},
     "output_type": "execute_result"
    }
   ],
   "source": [
    "dfClean"
   ]
  },
  {
   "cell_type": "code",
   "execution_count": 48,
   "metadata": {},
   "outputs": [],
   "source": [
    "df = dfClean.values"
   ]
  },
  {
   "cell_type": "code",
   "execution_count": 49,
   "metadata": {},
   "outputs": [],
   "source": [
    "# split data into input and output columns\n",
    "X, y = df[:, :-1], df[:, -1]"
   ]
  },
  {
   "cell_type": "code",
   "execution_count": 50,
   "metadata": {},
   "outputs": [],
   "source": [
    "# split data into train and test sets\n",
    "seed = 7\n",
    "test_size = 0.30\n",
    "X_train, X_test, y_train, y_test = train_test_split(X, y, test_size=test_size, random_state=seed)"
   ]
  },
  {
   "cell_type": "code",
   "execution_count": 51,
   "metadata": {},
   "outputs": [],
   "source": [
    "#Train the model using the training sets\n",
    "knn = KNeighborsClassifier(n_neighbors=5)\n",
    "knn.fit(X_train, y_train)\n",
    "\n",
    "#Predict the response for test dataset\n",
    "y_pred = knn.predict(X_test)"
   ]
  },
  {
   "cell_type": "code",
   "execution_count": 52,
   "metadata": {},
   "outputs": [
    {
     "name": "stdout",
     "output_type": "stream",
     "text": [
      "Accuracy of the model is: 83.31 %\n"
     ]
    }
   ],
   "source": [
    "print(\"Accuracy of the model is:\",round(metrics.accuracy_score(y_test, y_pred)*100,2), '%')"
   ]
  },
  {
   "cell_type": "markdown",
   "metadata": {},
   "source": [
    "We can see that this model has an accuracy of around 83%. The model we have developed is based on Light Conditions, Weather Conditions, and Road Surface Conditions to predict the severity of accidents."
   ]
  },
  {
   "cell_type": "code",
   "execution_count": 53,
   "metadata": {},
   "outputs": [],
   "source": [
    "dfWhere = dfActual[['Road_Type', 'Speed_limit', 'Carriageway_Hazards', 'Urban_or_Rural_Area']]\n",
    "dfClean = dfWhere[dfWhere.select_dtypes(include=[np.number]).ge(0).all(1)]\n",
    "dfClean = dfClean.dropna()"
   ]
  },
  {
   "cell_type": "code",
   "execution_count": 54,
   "metadata": {},
   "outputs": [
    {
     "data": {
      "text/html": [
       "<div>\n",
       "<style scoped>\n",
       "    .dataframe tbody tr th:only-of-type {\n",
       "        vertical-align: middle;\n",
       "    }\n",
       "\n",
       "    .dataframe tbody tr th {\n",
       "        vertical-align: top;\n",
       "    }\n",
       "\n",
       "    .dataframe thead th {\n",
       "        text-align: right;\n",
       "    }\n",
       "</style>\n",
       "<table border=\"1\" class=\"dataframe\">\n",
       "  <thead>\n",
       "    <tr style=\"text-align: right;\">\n",
       "      <th></th>\n",
       "      <th>Road_Type</th>\n",
       "      <th>Speed_limit</th>\n",
       "      <th>Carriageway_Hazards</th>\n",
       "      <th>Urban_or_Rural_Area</th>\n",
       "    </tr>\n",
       "  </thead>\n",
       "  <tbody>\n",
       "    <tr>\n",
       "      <th>0</th>\n",
       "      <td>1</td>\n",
       "      <td>30</td>\n",
       "      <td>0</td>\n",
       "      <td>1</td>\n",
       "    </tr>\n",
       "    <tr>\n",
       "      <th>1</th>\n",
       "      <td>2</td>\n",
       "      <td>30</td>\n",
       "      <td>0</td>\n",
       "      <td>1</td>\n",
       "    </tr>\n",
       "    <tr>\n",
       "      <th>2</th>\n",
       "      <td>6</td>\n",
       "      <td>30</td>\n",
       "      <td>0</td>\n",
       "      <td>1</td>\n",
       "    </tr>\n",
       "    <tr>\n",
       "      <th>3</th>\n",
       "      <td>6</td>\n",
       "      <td>20</td>\n",
       "      <td>0</td>\n",
       "      <td>1</td>\n",
       "    </tr>\n",
       "    <tr>\n",
       "      <th>4</th>\n",
       "      <td>6</td>\n",
       "      <td>30</td>\n",
       "      <td>0</td>\n",
       "      <td>1</td>\n",
       "    </tr>\n",
       "    <tr>\n",
       "      <th>...</th>\n",
       "      <td>...</td>\n",
       "      <td>...</td>\n",
       "      <td>...</td>\n",
       "      <td>...</td>\n",
       "    </tr>\n",
       "    <tr>\n",
       "      <th>117531</th>\n",
       "      <td>6</td>\n",
       "      <td>60</td>\n",
       "      <td>0</td>\n",
       "      <td>2</td>\n",
       "    </tr>\n",
       "    <tr>\n",
       "      <th>117532</th>\n",
       "      <td>6</td>\n",
       "      <td>60</td>\n",
       "      <td>0</td>\n",
       "      <td>2</td>\n",
       "    </tr>\n",
       "    <tr>\n",
       "      <th>117533</th>\n",
       "      <td>6</td>\n",
       "      <td>60</td>\n",
       "      <td>0</td>\n",
       "      <td>2</td>\n",
       "    </tr>\n",
       "    <tr>\n",
       "      <th>117534</th>\n",
       "      <td>6</td>\n",
       "      <td>30</td>\n",
       "      <td>0</td>\n",
       "      <td>2</td>\n",
       "    </tr>\n",
       "    <tr>\n",
       "      <th>117535</th>\n",
       "      <td>6</td>\n",
       "      <td>60</td>\n",
       "      <td>0</td>\n",
       "      <td>2</td>\n",
       "    </tr>\n",
       "  </tbody>\n",
       "</table>\n",
       "<p>115908 rows × 4 columns</p>\n",
       "</div>"
      ],
      "text/plain": [
       "        Road_Type  Speed_limit  Carriageway_Hazards  Urban_or_Rural_Area\n",
       "0               1           30                    0                    1\n",
       "1               2           30                    0                    1\n",
       "2               6           30                    0                    1\n",
       "3               6           20                    0                    1\n",
       "4               6           30                    0                    1\n",
       "...           ...          ...                  ...                  ...\n",
       "117531          6           60                    0                    2\n",
       "117532          6           60                    0                    2\n",
       "117533          6           60                    0                    2\n",
       "117534          6           30                    0                    2\n",
       "117535          6           60                    0                    2\n",
       "\n",
       "[115908 rows x 4 columns]"
      ]
     },
     "execution_count": 54,
     "metadata": {},
     "output_type": "execute_result"
    }
   ],
   "source": [
    "dfClean"
   ]
  },
  {
   "cell_type": "code",
   "execution_count": 55,
   "metadata": {},
   "outputs": [],
   "source": [
    "df = dfClean.values"
   ]
  },
  {
   "cell_type": "code",
   "execution_count": 56,
   "metadata": {},
   "outputs": [],
   "source": [
    "# split data into input and output columns\n",
    "X, y = df[:, :-1], df[:, -1]"
   ]
  },
  {
   "cell_type": "code",
   "execution_count": 57,
   "metadata": {},
   "outputs": [],
   "source": [
    "# split data into train and test sets\n",
    "seed = 7\n",
    "test_size = 0.30\n",
    "X_train, X_test, y_train, y_test = train_test_split(X, y, test_size=test_size, random_state=seed)"
   ]
  },
  {
   "cell_type": "code",
   "execution_count": 58,
   "metadata": {},
   "outputs": [],
   "source": [
    "#Train the model using the training sets\n",
    "knn = KNeighborsClassifier(n_neighbors=5)\n",
    "knn.fit(X_train, y_train)\n",
    "\n",
    "#Predict the response for test dataset\n",
    "y_pred = knn.predict(X_test)"
   ]
  },
  {
   "cell_type": "code",
   "execution_count": 59,
   "metadata": {},
   "outputs": [
    {
     "name": "stdout",
     "output_type": "stream",
     "text": [
      "Accuracy of the model is: 86.43 %\n"
     ]
    }
   ],
   "source": [
    "print(\"Accuracy of the model is:\",round(metrics.accuracy_score(y_test, y_pred)*100,2), '%')"
   ]
  },
  {
   "cell_type": "markdown",
   "metadata": {},
   "source": [
    "We can see that this model has an accuracy of around 86%. The model we have developed is based on Speed Limit, Carriageway Hazards, and Urban or Rural areas to predict the road type where accidents have occured"
   ]
  },
  {
   "cell_type": "code",
   "execution_count": null,
   "metadata": {},
   "outputs": [],
   "source": []
  }
 ],
 "metadata": {
  "kernelspec": {
   "display_name": "Python 3 (ipykernel)",
   "language": "python",
   "name": "python3"
  },
  "language_info": {
   "codemirror_mode": {
    "name": "ipython",
    "version": 3
   },
   "file_extension": ".py",
   "mimetype": "text/x-python",
   "name": "python",
   "nbconvert_exporter": "python",
   "pygments_lexer": "ipython3",
   "version": "3.10.2"
  }
 },
 "nbformat": 4,
 "nbformat_minor": 2
}
